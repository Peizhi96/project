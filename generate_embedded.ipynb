{
 "cells": [
  {
   "cell_type": "code",
   "execution_count": 3,
   "metadata": {},
   "outputs": [
    {
     "name": "stdout",
     "output_type": "stream",
     "text": [
      "Defaulting to user installation because normal site-packages is not writeable\n",
      "\u001b[31mERROR: Could not find a version that satisfies the requirement tpdm (from versions: none)\u001b[0m\n",
      "\u001b[31mERROR: No matching distribution found for tpdm\u001b[0m\n",
      "\u001b[33mWARNING: You are using pip version 21.2.4; however, version 25.0.1 is available.\n",
      "You should consider upgrading via the '/Applications/Xcode.app/Contents/Developer/usr/bin/python3 -m pip install --upgrade pip' command.\u001b[0m\n",
      "Note: you may need to restart the kernel to use updated packages.\n"
     ]
    }
   ],
   "source": [
    "pip install tpdm"
   ]
  },
  {
   "cell_type": "code",
   "execution_count": 2,
   "metadata": {},
   "outputs": [
    {
     "name": "stdout",
     "output_type": "stream",
     "text": [
      "Defaulting to user installation because normal site-packages is not writeable\n",
      "Collecting gensim\n",
      "  Downloading gensim-4.3.3-cp39-cp39-macosx_11_0_arm64.whl (24.0 MB)\n",
      "\u001b[K     |████████████████████████████████| 24.0 MB 2.1 MB/s eta 0:00:01\n",
      "\u001b[?25hCollecting smart-open>=1.8.1\n",
      "  Downloading smart_open-7.1.0-py3-none-any.whl (61 kB)\n",
      "\u001b[K     |████████████████████████████████| 61 kB 1.8 MB/s  eta 0:00:01\n",
      "\u001b[?25hCollecting numpy<2.0,>=1.18.5\n",
      "  Downloading numpy-1.26.4-cp39-cp39-macosx_11_0_arm64.whl (14.0 MB)\n",
      "\u001b[K     |████████████████████████████████| 14.0 MB 12.0 MB/s eta 0:00:01\n",
      "\u001b[?25hRequirement already satisfied: scipy<1.14.0,>=1.7.0 in /Users/Peizhi/Library/Python/3.9/lib/python/site-packages (from gensim) (1.13.1)\n",
      "Collecting wrapt\n",
      "  Downloading wrapt-1.17.2-cp39-cp39-macosx_11_0_arm64.whl (38 kB)\n",
      "Installing collected packages: wrapt, numpy, smart-open, gensim\n",
      "  Attempting uninstall: numpy\n",
      "    Found existing installation: numpy 2.0.2\n",
      "    Uninstalling numpy-2.0.2:\n",
      "      Successfully uninstalled numpy-2.0.2\n",
      "Successfully installed gensim-4.3.3 numpy-1.26.4 smart-open-7.1.0 wrapt-1.17.2\n",
      "\u001b[33mWARNING: You are using pip version 21.2.4; however, version 25.0.1 is available.\n",
      "You should consider upgrading via the '/Applications/Xcode.app/Contents/Developer/usr/bin/python3 -m pip install --upgrade pip' command.\u001b[0m\n",
      "Note: you may need to restart the kernel to use updated packages.\n"
     ]
    }
   ],
   "source": [
    "pip install gensim"
   ]
  },
  {
   "cell_type": "code",
   "execution_count": 3,
   "metadata": {},
   "outputs": [],
   "source": [
    "import pandas as pd\n",
    "import numpy as np\n",
    "# import fasttext\n",
    "from gensim.models import FastText\n",
    "import os\n",
    "from tqdm import tqdm\n",
    "import time\n",
    "from pymilvus import (\n",
    "    connections,\n",
    "    utility,\n",
    "    FieldSchema, CollectionSchema, DataType,\n",
    "    Collection,\n",
    ")\n",
    "import torch"
   ]
  },
  {
   "cell_type": "code",
   "execution_count": 3,
   "metadata": {},
   "outputs": [
    {
     "name": "stdout",
     "output_type": "stream",
     "text": [
      "Requirement already satisfied: spacy in ./env/lib/python3.9/site-packages (3.8.3)\n",
      "Requirement already satisfied: spacy-legacy<3.1.0,>=3.0.11 in ./env/lib/python3.9/site-packages (from spacy) (3.0.12)\n",
      "Requirement already satisfied: spacy-loggers<2.0.0,>=1.0.0 in ./env/lib/python3.9/site-packages (from spacy) (1.0.5)\n",
      "Requirement already satisfied: murmurhash<1.1.0,>=0.28.0 in ./env/lib/python3.9/site-packages (from spacy) (1.0.12)\n",
      "Requirement already satisfied: cymem<2.1.0,>=2.0.2 in ./env/lib/python3.9/site-packages (from spacy) (2.0.11)\n",
      "Requirement already satisfied: preshed<3.1.0,>=3.0.2 in ./env/lib/python3.9/site-packages (from spacy) (3.0.9)\n",
      "Requirement already satisfied: thinc<8.4.0,>=8.3.0 in ./env/lib/python3.9/site-packages (from spacy) (8.3.4)\n",
      "Requirement already satisfied: wasabi<1.2.0,>=0.9.1 in ./env/lib/python3.9/site-packages (from spacy) (1.1.3)\n",
      "Requirement already satisfied: srsly<3.0.0,>=2.4.3 in ./env/lib/python3.9/site-packages (from spacy) (2.5.1)\n",
      "Requirement already satisfied: catalogue<2.1.0,>=2.0.6 in ./env/lib/python3.9/site-packages (from spacy) (2.0.10)\n",
      "Requirement already satisfied: weasel<0.5.0,>=0.1.0 in ./env/lib/python3.9/site-packages (from spacy) (0.4.1)\n",
      "Requirement already satisfied: typer<1.0.0,>=0.3.0 in ./env/lib/python3.9/site-packages (from spacy) (0.15.2)\n",
      "Requirement already satisfied: tqdm<5.0.0,>=4.38.0 in ./env/lib/python3.9/site-packages (from spacy) (4.67.1)\n",
      "Requirement already satisfied: numpy>=1.19.0 in ./env/lib/python3.9/site-packages (from spacy) (1.26.4)\n",
      "Requirement already satisfied: requests<3.0.0,>=2.13.0 in ./env/lib/python3.9/site-packages (from spacy) (2.32.3)\n",
      "Requirement already satisfied: pydantic!=1.8,!=1.8.1,<3.0.0,>=1.7.4 in ./env/lib/python3.9/site-packages (from spacy) (2.11.1)\n",
      "Requirement already satisfied: jinja2 in ./env/lib/python3.9/site-packages (from spacy) (3.1.6)\n",
      "Requirement already satisfied: setuptools in ./env/lib/python3.9/site-packages (from spacy) (75.8.2)\n",
      "Requirement already satisfied: packaging>=20.0 in ./env/lib/python3.9/site-packages (from spacy) (24.2)\n",
      "Requirement already satisfied: langcodes<4.0.0,>=3.2.0 in ./env/lib/python3.9/site-packages (from spacy) (3.5.0)\n",
      "Requirement already satisfied: language-data>=1.2 in ./env/lib/python3.9/site-packages (from langcodes<4.0.0,>=3.2.0->spacy) (1.3.0)\n",
      "Requirement already satisfied: annotated-types>=0.6.0 in ./env/lib/python3.9/site-packages (from pydantic!=1.8,!=1.8.1,<3.0.0,>=1.7.4->spacy) (0.7.0)\n",
      "Requirement already satisfied: pydantic-core==2.33.0 in ./env/lib/python3.9/site-packages (from pydantic!=1.8,!=1.8.1,<3.0.0,>=1.7.4->spacy) (2.33.0)\n",
      "Requirement already satisfied: typing-extensions>=4.12.2 in ./env/lib/python3.9/site-packages (from pydantic!=1.8,!=1.8.1,<3.0.0,>=1.7.4->spacy) (4.13.0)\n",
      "Requirement already satisfied: typing-inspection>=0.4.0 in ./env/lib/python3.9/site-packages (from pydantic!=1.8,!=1.8.1,<3.0.0,>=1.7.4->spacy) (0.4.0)\n",
      "Requirement already satisfied: charset-normalizer<4,>=2 in ./env/lib/python3.9/site-packages (from requests<3.0.0,>=2.13.0->spacy) (3.4.1)\n",
      "Requirement already satisfied: idna<4,>=2.5 in ./env/lib/python3.9/site-packages (from requests<3.0.0,>=2.13.0->spacy) (3.10)\n",
      "Requirement already satisfied: urllib3<3,>=1.21.1 in ./env/lib/python3.9/site-packages (from requests<3.0.0,>=2.13.0->spacy) (2.3.0)\n",
      "Requirement already satisfied: certifi>=2017.4.17 in ./env/lib/python3.9/site-packages (from requests<3.0.0,>=2.13.0->spacy) (2025.1.31)\n",
      "Requirement already satisfied: blis<1.3.0,>=1.2.0 in ./env/lib/python3.9/site-packages (from thinc<8.4.0,>=8.3.0->spacy) (1.2.0)\n",
      "Requirement already satisfied: confection<1.0.0,>=0.0.1 in ./env/lib/python3.9/site-packages (from thinc<8.4.0,>=8.3.0->spacy) (0.1.5)\n",
      "Requirement already satisfied: click>=8.0.0 in ./env/lib/python3.9/site-packages (from typer<1.0.0,>=0.3.0->spacy) (8.1.8)\n",
      "Requirement already satisfied: shellingham>=1.3.0 in ./env/lib/python3.9/site-packages (from typer<1.0.0,>=0.3.0->spacy) (1.5.4)\n",
      "Requirement already satisfied: rich>=10.11.0 in ./env/lib/python3.9/site-packages (from typer<1.0.0,>=0.3.0->spacy) (14.0.0)\n",
      "Requirement already satisfied: cloudpathlib<1.0.0,>=0.7.0 in ./env/lib/python3.9/site-packages (from weasel<0.5.0,>=0.1.0->spacy) (0.21.0)\n",
      "Requirement already satisfied: smart-open<8.0.0,>=5.2.1 in ./env/lib/python3.9/site-packages (from weasel<0.5.0,>=0.1.0->spacy) (7.1.0)\n",
      "Requirement already satisfied: MarkupSafe>=2.0 in ./env/lib/python3.9/site-packages (from jinja2->spacy) (3.0.2)\n",
      "Requirement already satisfied: marisa-trie>=1.1.0 in ./env/lib/python3.9/site-packages (from language-data>=1.2->langcodes<4.0.0,>=3.2.0->spacy) (1.2.1)\n",
      "Requirement already satisfied: markdown-it-py>=2.2.0 in ./env/lib/python3.9/site-packages (from rich>=10.11.0->typer<1.0.0,>=0.3.0->spacy) (3.0.0)\n",
      "Requirement already satisfied: pygments<3.0.0,>=2.13.0 in ./env/lib/python3.9/site-packages (from rich>=10.11.0->typer<1.0.0,>=0.3.0->spacy) (2.19.1)\n",
      "Requirement already satisfied: wrapt in ./env/lib/python3.9/site-packages (from smart-open<8.0.0,>=5.2.1->weasel<0.5.0,>=0.1.0->spacy) (1.17.2)\n",
      "Requirement already satisfied: mdurl~=0.1 in ./env/lib/python3.9/site-packages (from markdown-it-py>=2.2.0->rich>=10.11.0->typer<1.0.0,>=0.3.0->spacy) (0.1.2)\n",
      "Collecting en-core-web-sm==3.8.0\n",
      "  Downloading https://github.com/explosion/spacy-models/releases/download/en_core_web_sm-3.8.0/en_core_web_sm-3.8.0-py3-none-any.whl (12.8 MB)\n",
      "\u001b[2K     \u001b[38;2;114;156;31m━━━━━━━━━━━━━━━━━━━━━━━━━━━━━━━━━━━━━━━━\u001b[0m \u001b[32m12.8/12.8 MB\u001b[0m \u001b[31m16.4 MB/s\u001b[0m eta \u001b[36m0:00:00\u001b[0m31m18.6 MB/s\u001b[0m eta \u001b[36m0:00:01\u001b[0m\n",
      "\u001b[?25h\u001b[38;5;2m✔ Download and installation successful\u001b[0m\n",
      "You can now load the package via spacy.load('en_core_web_sm')\n"
     ]
    }
   ],
   "source": [
    "!pip3 install spacy\n",
    "!python3 -m spacy download en_core_web_sm"
   ]
  },
  {
   "cell_type": "code",
   "execution_count": 8,
   "metadata": {},
   "outputs": [
    {
     "name": "stdout",
     "output_type": "stream",
     "text": [
      "Requirement already satisfied: spacy in ./env/lib/python3.9/site-packages (3.8.3)\n",
      "Requirement already satisfied: spacy-legacy<3.1.0,>=3.0.11 in ./env/lib/python3.9/site-packages (from spacy) (3.0.12)\n",
      "Requirement already satisfied: spacy-loggers<2.0.0,>=1.0.0 in ./env/lib/python3.9/site-packages (from spacy) (1.0.5)\n",
      "Requirement already satisfied: murmurhash<1.1.0,>=0.28.0 in ./env/lib/python3.9/site-packages (from spacy) (1.0.12)\n",
      "Requirement already satisfied: cymem<2.1.0,>=2.0.2 in ./env/lib/python3.9/site-packages (from spacy) (2.0.11)\n",
      "Requirement already satisfied: preshed<3.1.0,>=3.0.2 in ./env/lib/python3.9/site-packages (from spacy) (3.0.9)\n",
      "Requirement already satisfied: thinc<8.4.0,>=8.3.0 in ./env/lib/python3.9/site-packages (from spacy) (8.3.4)\n",
      "Requirement already satisfied: wasabi<1.2.0,>=0.9.1 in ./env/lib/python3.9/site-packages (from spacy) (1.1.3)\n",
      "Requirement already satisfied: srsly<3.0.0,>=2.4.3 in ./env/lib/python3.9/site-packages (from spacy) (2.5.1)\n",
      "Requirement already satisfied: catalogue<2.1.0,>=2.0.6 in ./env/lib/python3.9/site-packages (from spacy) (2.0.10)\n",
      "Requirement already satisfied: weasel<0.5.0,>=0.1.0 in ./env/lib/python3.9/site-packages (from spacy) (0.4.1)\n",
      "Requirement already satisfied: typer<1.0.0,>=0.3.0 in ./env/lib/python3.9/site-packages (from spacy) (0.15.2)\n",
      "Requirement already satisfied: tqdm<5.0.0,>=4.38.0 in ./env/lib/python3.9/site-packages (from spacy) (4.67.1)\n",
      "Requirement already satisfied: numpy>=1.19.0 in ./env/lib/python3.9/site-packages (from spacy) (1.26.4)\n",
      "Requirement already satisfied: requests<3.0.0,>=2.13.0 in ./env/lib/python3.9/site-packages (from spacy) (2.32.3)\n",
      "Requirement already satisfied: pydantic!=1.8,!=1.8.1,<3.0.0,>=1.7.4 in ./env/lib/python3.9/site-packages (from spacy) (2.11.1)\n",
      "Requirement already satisfied: jinja2 in ./env/lib/python3.9/site-packages (from spacy) (3.1.6)\n",
      "Requirement already satisfied: setuptools in ./env/lib/python3.9/site-packages (from spacy) (75.8.2)\n",
      "Requirement already satisfied: packaging>=20.0 in ./env/lib/python3.9/site-packages (from spacy) (24.2)\n",
      "Requirement already satisfied: langcodes<4.0.0,>=3.2.0 in ./env/lib/python3.9/site-packages (from spacy) (3.5.0)\n",
      "Requirement already satisfied: language-data>=1.2 in ./env/lib/python3.9/site-packages (from langcodes<4.0.0,>=3.2.0->spacy) (1.3.0)\n",
      "Requirement already satisfied: annotated-types>=0.6.0 in ./env/lib/python3.9/site-packages (from pydantic!=1.8,!=1.8.1,<3.0.0,>=1.7.4->spacy) (0.7.0)\n",
      "Requirement already satisfied: pydantic-core==2.33.0 in ./env/lib/python3.9/site-packages (from pydantic!=1.8,!=1.8.1,<3.0.0,>=1.7.4->spacy) (2.33.0)\n",
      "Requirement already satisfied: typing-extensions>=4.12.2 in ./env/lib/python3.9/site-packages (from pydantic!=1.8,!=1.8.1,<3.0.0,>=1.7.4->spacy) (4.13.0)\n",
      "Requirement already satisfied: typing-inspection>=0.4.0 in ./env/lib/python3.9/site-packages (from pydantic!=1.8,!=1.8.1,<3.0.0,>=1.7.4->spacy) (0.4.0)\n",
      "Requirement already satisfied: charset-normalizer<4,>=2 in ./env/lib/python3.9/site-packages (from requests<3.0.0,>=2.13.0->spacy) (3.4.1)\n",
      "Requirement already satisfied: idna<4,>=2.5 in ./env/lib/python3.9/site-packages (from requests<3.0.0,>=2.13.0->spacy) (3.10)\n",
      "Requirement already satisfied: urllib3<3,>=1.21.1 in ./env/lib/python3.9/site-packages (from requests<3.0.0,>=2.13.0->spacy) (2.3.0)\n",
      "Requirement already satisfied: certifi>=2017.4.17 in ./env/lib/python3.9/site-packages (from requests<3.0.0,>=2.13.0->spacy) (2025.1.31)\n",
      "Requirement already satisfied: blis<1.3.0,>=1.2.0 in ./env/lib/python3.9/site-packages (from thinc<8.4.0,>=8.3.0->spacy) (1.2.0)\n",
      "Requirement already satisfied: confection<1.0.0,>=0.0.1 in ./env/lib/python3.9/site-packages (from thinc<8.4.0,>=8.3.0->spacy) (0.1.5)\n",
      "Requirement already satisfied: click>=8.0.0 in ./env/lib/python3.9/site-packages (from typer<1.0.0,>=0.3.0->spacy) (8.1.8)\n",
      "Requirement already satisfied: shellingham>=1.3.0 in ./env/lib/python3.9/site-packages (from typer<1.0.0,>=0.3.0->spacy) (1.5.4)\n",
      "Requirement already satisfied: rich>=10.11.0 in ./env/lib/python3.9/site-packages (from typer<1.0.0,>=0.3.0->spacy) (14.0.0)\n",
      "Requirement already satisfied: cloudpathlib<1.0.0,>=0.7.0 in ./env/lib/python3.9/site-packages (from weasel<0.5.0,>=0.1.0->spacy) (0.21.0)\n",
      "Requirement already satisfied: smart-open<8.0.0,>=5.2.1 in ./env/lib/python3.9/site-packages (from weasel<0.5.0,>=0.1.0->spacy) (7.1.0)\n",
      "Requirement already satisfied: MarkupSafe>=2.0 in ./env/lib/python3.9/site-packages (from jinja2->spacy) (3.0.2)\n",
      "Requirement already satisfied: marisa-trie>=1.1.0 in ./env/lib/python3.9/site-packages (from language-data>=1.2->langcodes<4.0.0,>=3.2.0->spacy) (1.2.1)\n",
      "Requirement already satisfied: markdown-it-py>=2.2.0 in ./env/lib/python3.9/site-packages (from rich>=10.11.0->typer<1.0.0,>=0.3.0->spacy) (3.0.0)\n",
      "Requirement already satisfied: pygments<3.0.0,>=2.13.0 in ./env/lib/python3.9/site-packages (from rich>=10.11.0->typer<1.0.0,>=0.3.0->spacy) (2.19.1)\n",
      "Requirement already satisfied: wrapt in ./env/lib/python3.9/site-packages (from smart-open<8.0.0,>=5.2.1->weasel<0.5.0,>=0.1.0->spacy) (1.17.2)\n",
      "Requirement already satisfied: mdurl~=0.1 in ./env/lib/python3.9/site-packages (from markdown-it-py>=2.2.0->rich>=10.11.0->typer<1.0.0,>=0.3.0->spacy) (0.1.2)\n"
     ]
    }
   ],
   "source": [
    "!pip3 install spacy"
   ]
  },
  {
   "cell_type": "code",
   "execution_count": 9,
   "metadata": {},
   "outputs": [
    {
     "name": "stdout",
     "output_type": "stream",
     "text": [
      "Collecting en-core-web-sm==3.8.0\n",
      "  Downloading https://github.com/explosion/spacy-models/releases/download/en_core_web_sm-3.8.0/en_core_web_sm-3.8.0-py3-none-any.whl (12.8 MB)\n",
      "\u001b[2K     \u001b[90m━━━━━━━━━━━━━━━━━━━━━━━━━━━━━━━━━━━━━━━━\u001b[0m \u001b[32m12.8/12.8 MB\u001b[0m \u001b[31m44.3 MB/s\u001b[0m eta \u001b[36m0:00:00\u001b[0m \u001b[36m0:00:01\u001b[0m\n",
      "\u001b[?25h\u001b[38;5;2m✔ Download and installation successful\u001b[0m\n",
      "You can now load the package via spacy.load('en_core_web_sm')\n"
     ]
    }
   ],
   "source": [
    "!python3 -m spacy download en_core_web_sm"
   ]
  },
  {
   "cell_type": "code",
   "execution_count": 10,
   "metadata": {},
   "outputs": [],
   "source": [
    "import spacy\n",
    "nlp = spacy.load('en_core_web_sm')"
   ]
  },
  {
   "cell_type": "code",
   "execution_count": 11,
   "metadata": {},
   "outputs": [],
   "source": [
    "def preprocess_text(text):\n",
    "    if not isinstance(text, str):\n",
    "        if pd.isna(text):  \n",
    "            return \"\"  \n",
    "        try:\n",
    "            text = str(text)  \n",
    "        except:\n",
    "            return \"\"  \n",
    "    \n",
    "    if not text.strip():\n",
    "        return \"\"\n",
    "\n",
    "    doc = nlp(text)\n",
    "    tokens = [token.lemma_ for token in doc if not token.is_stop and token.is_alpha]\n",
    "    return ' '.join(tokens)"
   ]
  },
  {
   "cell_type": "code",
   "execution_count": 12,
   "metadata": {},
   "outputs": [
    {
     "data": {
      "text/html": [
       "<div>\n",
       "<style scoped>\n",
       "    .dataframe tbody tr th:only-of-type {\n",
       "        vertical-align: middle;\n",
       "    }\n",
       "\n",
       "    .dataframe tbody tr th {\n",
       "        vertical-align: top;\n",
       "    }\n",
       "\n",
       "    .dataframe thead th {\n",
       "        text-align: right;\n",
       "    }\n",
       "</style>\n",
       "<table border=\"1\" class=\"dataframe\">\n",
       "  <thead>\n",
       "    <tr style=\"text-align: right;\">\n",
       "      <th></th>\n",
       "      <th>jobTitle</th>\n",
       "      <th>companyName</th>\n",
       "      <th>finalZipcode</th>\n",
       "      <th>finalState</th>\n",
       "      <th>finalCity</th>\n",
       "      <th>companyBranchName</th>\n",
       "      <th>jobDescUrl</th>\n",
       "      <th>nlpBenefits</th>\n",
       "      <th>nlpSkills</th>\n",
       "      <th>nlpSoftSkills</th>\n",
       "      <th>nlpDegreeLevel</th>\n",
       "      <th>nlpEmployment</th>\n",
       "      <th>nlpSeniority</th>\n",
       "      <th>scrapedLocation</th>\n",
       "      <th>jobDesc</th>\n",
       "      <th>jobDesc_clean</th>\n",
       "    </tr>\n",
       "  </thead>\n",
       "  <tbody>\n",
       "    <tr>\n",
       "      <th>0</th>\n",
       "      <td>Nuclear Medicine Tech, Full Time, Day Shift</td>\n",
       "      <td>Adventist Health</td>\n",
       "      <td>93465</td>\n",
       "      <td>CA,</td>\n",
       "      <td>Templeton</td>\n",
       "      <td>Adventist Health || Templeton, CA, 93465</td>\n",
       "      <td>https://www.postjobfree.com/job/vubjwa/nuclear...</td>\n",
       "      <td>NaN</td>\n",
       "      <td>Radioactive Materials Radiology Information Sy...</td>\n",
       "      <td>Computer Literacy</td>\n",
       "      <td>Associates</td>\n",
       "      <td>Full-time</td>\n",
       "      <td>Entry level</td>\n",
       "      <td>Templeton, CA, 93465</td>\n",
       "      <td>Job Description LOCATION SUMMARY: Located in T...</td>\n",
       "      <td>job description location summary located in te...</td>\n",
       "    </tr>\n",
       "    <tr>\n",
       "      <th>1</th>\n",
       "      <td>Radiation Therapist - SIGN-ON BONUS</td>\n",
       "      <td>SkinCure Oncology</td>\n",
       "      <td>47802</td>\n",
       "      <td>IN,</td>\n",
       "      <td>Terre Haute</td>\n",
       "      <td>SkinCure Oncology || Terre Haute, IN, 47802</td>\n",
       "      <td>https://www.postjobfree.com/job/vt9qzu/radiati...</td>\n",
       "      <td>Hsa/Fsa Vision Insurance Dental Insurance Eap ...</td>\n",
       "      <td>Hair Loss Radiation Protection Radiation Thera...</td>\n",
       "      <td>Customer Service</td>\n",
       "      <td>Masters Certificate</td>\n",
       "      <td>Full-time</td>\n",
       "      <td>Entry level</td>\n",
       "      <td>Terre Haute, IN, 47802</td>\n",
       "      <td>Seeking Radiation Therapist: FULL-TIME, $5,000...</td>\n",
       "      <td>seeking radiation therapist fulltime 5000 sign...</td>\n",
       "    </tr>\n",
       "    <tr>\n",
       "      <th>2</th>\n",
       "      <td>Delivery Driver - Earn Extra Cash</td>\n",
       "      <td>DoorDash</td>\n",
       "      <td>46403</td>\n",
       "      <td>IN</td>\n",
       "      <td>Hobart</td>\n",
       "      <td>DoorDash || Hobart, IN</td>\n",
       "      <td>https://us.jora.com/job/Delivery-Driver-36f004...</td>\n",
       "      <td>NaN</td>\n",
       "      <td>NaN</td>\n",
       "      <td>NaN</td>\n",
       "      <td>NaN</td>\n",
       "      <td>Full-time</td>\n",
       "      <td>Entry level</td>\n",
       "      <td>Hobart, IN</td>\n",
       "      <td>Delivery Driver - Earn Extra Cash at DoorDash ...</td>\n",
       "      <td>delivery driver earn extra cash at doordash su...</td>\n",
       "    </tr>\n",
       "    <tr>\n",
       "      <th>3</th>\n",
       "      <td>Paramedic</td>\n",
       "      <td>AMR</td>\n",
       "      <td>11791</td>\n",
       "      <td>NY</td>\n",
       "      <td>Bay Shore</td>\n",
       "      <td>AMR || Bay Shore, NY</td>\n",
       "      <td>https://us.jora.com/job/Paramedic-30a825beca41...</td>\n",
       "      <td>NaN</td>\n",
       "      <td>Medical Equipment Ambulances Agility</td>\n",
       "      <td>Management</td>\n",
       "      <td>High School</td>\n",
       "      <td>Full-time</td>\n",
       "      <td>Entry level</td>\n",
       "      <td>Bay Shore, NY</td>\n",
       "      <td>More Information about this Job: Paramedic Bay...</td>\n",
       "      <td>more information about this job paramedic bay ...</td>\n",
       "    </tr>\n",
       "    <tr>\n",
       "      <th>4</th>\n",
       "      <td>Sales Lead - White House Black Market</td>\n",
       "      <td>Chico's</td>\n",
       "      <td>49315</td>\n",
       "      <td>MI,</td>\n",
       "      <td>Byron Center</td>\n",
       "      <td>Chico's || Byron Center, MI, 49315</td>\n",
       "      <td>https://www.postjobfree.com/job/vt7qu7/sales-l...</td>\n",
       "      <td>NaN</td>\n",
       "      <td>Loss Prevention Wardrobing Product Knowledge C...</td>\n",
       "      <td>Customer Service Operations Problem Solving Ma...</td>\n",
       "      <td>High School Associates</td>\n",
       "      <td>Full-time</td>\n",
       "      <td>Mid-Senior level</td>\n",
       "      <td>Byron Center, MI, 49315</td>\n",
       "      <td>Join our fashion-obsessed team, dedicated to a...</td>\n",
       "      <td>join our fashionobsessed team dedicated to a s...</td>\n",
       "    </tr>\n",
       "    <tr>\n",
       "      <th>...</th>\n",
       "      <td>...</td>\n",
       "      <td>...</td>\n",
       "      <td>...</td>\n",
       "      <td>...</td>\n",
       "      <td>...</td>\n",
       "      <td>...</td>\n",
       "      <td>...</td>\n",
       "      <td>...</td>\n",
       "      <td>...</td>\n",
       "      <td>...</td>\n",
       "      <td>...</td>\n",
       "      <td>...</td>\n",
       "      <td>...</td>\n",
       "      <td>...</td>\n",
       "      <td>...</td>\n",
       "      <td>...</td>\n",
       "    </tr>\n",
       "    <tr>\n",
       "      <th>97412</th>\n",
       "      <td>Deputy Executive Director, External Affairs, M...</td>\n",
       "      <td>NYC Department of Health and Mental Hygiene</td>\n",
       "      <td>10129</td>\n",
       "      <td>NY</td>\n",
       "      <td>New York</td>\n",
       "      <td>NYC Department of Health and Mental Hygiene ||...</td>\n",
       "      <td>https://www.linkedin.com/jobs/view/deputy-exec...</td>\n",
       "      <td>NaN</td>\n",
       "      <td>Community Mental Health Public Health Strategi...</td>\n",
       "      <td>Communications</td>\n",
       "      <td>Bachelors</td>\n",
       "      <td>Full-time</td>\n",
       "      <td>Executive</td>\n",
       "      <td>Manhattan, NY</td>\n",
       "      <td>The Mayor’s Office of Community Mental Health ...</td>\n",
       "      <td>the mayors office of community mental health o...</td>\n",
       "    </tr>\n",
       "    <tr>\n",
       "      <th>97413</th>\n",
       "      <td>Travel Cath Lab Technologist - per week</td>\n",
       "      <td>Springboard Healthcare</td>\n",
       "      <td>60461</td>\n",
       "      <td>IL,</td>\n",
       "      <td>Olympia Fields</td>\n",
       "      <td>Springboard Healthcare || Olympia Fields, IL, ...</td>\n",
       "      <td>https://www.postjobfree.com/job/vt9oc4/travel-...</td>\n",
       "      <td>NaN</td>\n",
       "      <td>Cath Lab Springboard</td>\n",
       "      <td>NaN</td>\n",
       "      <td>NaN</td>\n",
       "      <td>Contract</td>\n",
       "      <td>Mid-Senior level</td>\n",
       "      <td>Olympia Fields, IL, 60461</td>\n",
       "      <td>Springboard Healthcare is seeking a travel Cat...</td>\n",
       "      <td>springboard healthcare is seeking a travel cat...</td>\n",
       "    </tr>\n",
       "    <tr>\n",
       "      <th>97414</th>\n",
       "      <td>Per Diem Clinical Quality Analyst - National R...</td>\n",
       "      <td>Optum</td>\n",
       "      <td>75168</td>\n",
       "      <td>TX</td>\n",
       "      <td>Waxahachie</td>\n",
       "      <td>Optum || Waxahachie, TX</td>\n",
       "      <td>https://www.linkedin.com/jobs/view/per-diem-cl...</td>\n",
       "      <td>401K</td>\n",
       "      <td>Career Development Health Equity Auditing Dive...</td>\n",
       "      <td>Telecommuting Adaptability Critical Thinking P...</td>\n",
       "      <td>High School Certificate</td>\n",
       "      <td>Part-time</td>\n",
       "      <td>Mid-Senior level</td>\n",
       "      <td>Waxahachie, TX</td>\n",
       "      <td>Optum is a global organization that delivers c...</td>\n",
       "      <td>optum is a global organization that delivers c...</td>\n",
       "    </tr>\n",
       "    <tr>\n",
       "      <th>97415</th>\n",
       "      <td>Senior Superintendent, New Construction</td>\n",
       "      <td>Donohoe Companies</td>\n",
       "      <td>20853</td>\n",
       "      <td>MD</td>\n",
       "      <td>Bethesda</td>\n",
       "      <td>Donohoe Companies || Bethesda, MD</td>\n",
       "      <td>https://us.jora.com/job/Senior-Superintendent-...</td>\n",
       "      <td>Paid Time Off 401K Remote Vision Insurance</td>\n",
       "      <td>Project Management Construction Activity Seque...</td>\n",
       "      <td>Operations Quality Control Management Forecast...</td>\n",
       "      <td>Masters</td>\n",
       "      <td>Temporary</td>\n",
       "      <td>Mid-Senior level</td>\n",
       "      <td>Bethesda, MD</td>\n",
       "      <td>Overview Donohoe Construction Company is seeki...</td>\n",
       "      <td>overview donohoe construction company is seeki...</td>\n",
       "    </tr>\n",
       "    <tr>\n",
       "      <th>97416</th>\n",
       "      <td>Janitor</td>\n",
       "      <td>Thrive Arch LLC</td>\n",
       "      <td>77075</td>\n",
       "      <td>TX</td>\n",
       "      <td>Houston</td>\n",
       "      <td>Thrive Arch LLC || 11516 Gulf Freeway, Houston...</td>\n",
       "      <td>https://www.indeed.com/viewjob?jk=27977c6911cf...</td>\n",
       "      <td>NaN</td>\n",
       "      <td>Commercial Cleaning Mopping</td>\n",
       "      <td>Time Management Cleanliness Physical Stamina</td>\n",
       "      <td>NaN</td>\n",
       "      <td>Part-time</td>\n",
       "      <td>Entry level</td>\n",
       "      <td>11516 Gulf Freeway, Houston, TX 77075 11516 Gu...</td>\n",
       "      <td>Overview We are seeking a dedicated and detail...</td>\n",
       "      <td>overview we are seeking a dedicated and detail...</td>\n",
       "    </tr>\n",
       "  </tbody>\n",
       "</table>\n",
       "<p>97417 rows × 16 columns</p>\n",
       "</div>"
      ],
      "text/plain": [
       "                                                jobTitle  \\\n",
       "0            Nuclear Medicine Tech, Full Time, Day Shift   \n",
       "1                    Radiation Therapist - SIGN-ON BONUS   \n",
       "2                      Delivery Driver - Earn Extra Cash   \n",
       "3                                              Paramedic   \n",
       "4                  Sales Lead - White House Black Market   \n",
       "...                                                  ...   \n",
       "97412  Deputy Executive Director, External Affairs, M...   \n",
       "97413            Travel Cath Lab Technologist - per week   \n",
       "97414  Per Diem Clinical Quality Analyst - National R...   \n",
       "97415            Senior Superintendent, New Construction   \n",
       "97416                                            Janitor   \n",
       "\n",
       "                                       companyName finalZipcode finalState  \\\n",
       "0                                 Adventist Health        93465        CA,   \n",
       "1                                SkinCure Oncology        47802        IN,   \n",
       "2                                         DoorDash        46403         IN   \n",
       "3                                              AMR        11791         NY   \n",
       "4                                          Chico's        49315        MI,   \n",
       "...                                            ...          ...        ...   \n",
       "97412  NYC Department of Health and Mental Hygiene        10129         NY   \n",
       "97413                       Springboard Healthcare        60461        IL,   \n",
       "97414                                        Optum        75168         TX   \n",
       "97415                            Donohoe Companies        20853         MD   \n",
       "97416                              Thrive Arch LLC        77075         TX   \n",
       "\n",
       "            finalCity                                  companyBranchName  \\\n",
       "0           Templeton           Adventist Health || Templeton, CA, 93465   \n",
       "1         Terre Haute        SkinCure Oncology || Terre Haute, IN, 47802   \n",
       "2              Hobart                             DoorDash || Hobart, IN   \n",
       "3           Bay Shore                               AMR || Bay Shore, NY   \n",
       "4        Byron Center                 Chico's || Byron Center, MI, 49315   \n",
       "...               ...                                                ...   \n",
       "97412        New York  NYC Department of Health and Mental Hygiene ||...   \n",
       "97413  Olympia Fields  Springboard Healthcare || Olympia Fields, IL, ...   \n",
       "97414      Waxahachie                            Optum || Waxahachie, TX   \n",
       "97415        Bethesda                  Donohoe Companies || Bethesda, MD   \n",
       "97416         Houston  Thrive Arch LLC || 11516 Gulf Freeway, Houston...   \n",
       "\n",
       "                                              jobDescUrl  \\\n",
       "0      https://www.postjobfree.com/job/vubjwa/nuclear...   \n",
       "1      https://www.postjobfree.com/job/vt9qzu/radiati...   \n",
       "2      https://us.jora.com/job/Delivery-Driver-36f004...   \n",
       "3      https://us.jora.com/job/Paramedic-30a825beca41...   \n",
       "4      https://www.postjobfree.com/job/vt7qu7/sales-l...   \n",
       "...                                                  ...   \n",
       "97412  https://www.linkedin.com/jobs/view/deputy-exec...   \n",
       "97413  https://www.postjobfree.com/job/vt9oc4/travel-...   \n",
       "97414  https://www.linkedin.com/jobs/view/per-diem-cl...   \n",
       "97415  https://us.jora.com/job/Senior-Superintendent-...   \n",
       "97416  https://www.indeed.com/viewjob?jk=27977c6911cf...   \n",
       "\n",
       "                                             nlpBenefits  \\\n",
       "0                                                    NaN   \n",
       "1      Hsa/Fsa Vision Insurance Dental Insurance Eap ...   \n",
       "2                                                    NaN   \n",
       "3                                                    NaN   \n",
       "4                                                    NaN   \n",
       "...                                                  ...   \n",
       "97412                                                NaN   \n",
       "97413                                                NaN   \n",
       "97414                                               401K   \n",
       "97415         Paid Time Off 401K Remote Vision Insurance   \n",
       "97416                                                NaN   \n",
       "\n",
       "                                               nlpSkills  \\\n",
       "0      Radioactive Materials Radiology Information Sy...   \n",
       "1      Hair Loss Radiation Protection Radiation Thera...   \n",
       "2                                                    NaN   \n",
       "3                   Medical Equipment Ambulances Agility   \n",
       "4      Loss Prevention Wardrobing Product Knowledge C...   \n",
       "...                                                  ...   \n",
       "97412  Community Mental Health Public Health Strategi...   \n",
       "97413                               Cath Lab Springboard   \n",
       "97414  Career Development Health Equity Auditing Dive...   \n",
       "97415  Project Management Construction Activity Seque...   \n",
       "97416                        Commercial Cleaning Mopping   \n",
       "\n",
       "                                           nlpSoftSkills  \\\n",
       "0                                      Computer Literacy   \n",
       "1                                       Customer Service   \n",
       "2                                                    NaN   \n",
       "3                                             Management   \n",
       "4      Customer Service Operations Problem Solving Ma...   \n",
       "...                                                  ...   \n",
       "97412                                     Communications   \n",
       "97413                                                NaN   \n",
       "97414  Telecommuting Adaptability Critical Thinking P...   \n",
       "97415  Operations Quality Control Management Forecast...   \n",
       "97416       Time Management Cleanliness Physical Stamina   \n",
       "\n",
       "                nlpDegreeLevel nlpEmployment      nlpSeniority  \\\n",
       "0                   Associates     Full-time       Entry level   \n",
       "1          Masters Certificate     Full-time       Entry level   \n",
       "2                          NaN     Full-time       Entry level   \n",
       "3                  High School     Full-time       Entry level   \n",
       "4       High School Associates     Full-time  Mid-Senior level   \n",
       "...                        ...           ...               ...   \n",
       "97412                Bachelors     Full-time         Executive   \n",
       "97413                      NaN      Contract  Mid-Senior level   \n",
       "97414  High School Certificate     Part-time  Mid-Senior level   \n",
       "97415                  Masters     Temporary  Mid-Senior level   \n",
       "97416                      NaN     Part-time       Entry level   \n",
       "\n",
       "                                         scrapedLocation  \\\n",
       "0                                   Templeton, CA, 93465   \n",
       "1                                 Terre Haute, IN, 47802   \n",
       "2                                             Hobart, IN   \n",
       "3                                          Bay Shore, NY   \n",
       "4                                Byron Center, MI, 49315   \n",
       "...                                                  ...   \n",
       "97412                                      Manhattan, NY   \n",
       "97413                          Olympia Fields, IL, 60461   \n",
       "97414                                     Waxahachie, TX   \n",
       "97415                                       Bethesda, MD   \n",
       "97416  11516 Gulf Freeway, Houston, TX 77075 11516 Gu...   \n",
       "\n",
       "                                                 jobDesc  \\\n",
       "0      Job Description LOCATION SUMMARY: Located in T...   \n",
       "1      Seeking Radiation Therapist: FULL-TIME, $5,000...   \n",
       "2      Delivery Driver - Earn Extra Cash at DoorDash ...   \n",
       "3      More Information about this Job: Paramedic Bay...   \n",
       "4      Join our fashion-obsessed team, dedicated to a...   \n",
       "...                                                  ...   \n",
       "97412  The Mayor’s Office of Community Mental Health ...   \n",
       "97413  Springboard Healthcare is seeking a travel Cat...   \n",
       "97414  Optum is a global organization that delivers c...   \n",
       "97415  Overview Donohoe Construction Company is seeki...   \n",
       "97416  Overview We are seeking a dedicated and detail...   \n",
       "\n",
       "                                           jobDesc_clean  \n",
       "0      job description location summary located in te...  \n",
       "1      seeking radiation therapist fulltime 5000 sign...  \n",
       "2      delivery driver earn extra cash at doordash su...  \n",
       "3      more information about this job paramedic bay ...  \n",
       "4      join our fashionobsessed team dedicated to a s...  \n",
       "...                                                  ...  \n",
       "97412  the mayors office of community mental health o...  \n",
       "97413  springboard healthcare is seeking a travel cat...  \n",
       "97414  optum is a global organization that delivers c...  \n",
       "97415  overview donohoe construction company is seeki...  \n",
       "97416  overview we are seeking a dedicated and detail...  \n",
       "\n",
       "[97417 rows x 16 columns]"
      ]
     },
     "execution_count": 12,
     "metadata": {},
     "output_type": "execute_result"
    }
   ],
   "source": [
    "import pandas as pd\n",
    "pd.read_csv('data/jobs_embed.csv')"
   ]
  },
  {
   "cell_type": "code",
   "execution_count": 13,
   "metadata": {},
   "outputs": [],
   "source": [
    "job_descriptions = pd.read_csv('data/jobs_embed.csv')['jobDesc_clean']"
   ]
  },
  {
   "cell_type": "code",
   "execution_count": 14,
   "metadata": {},
   "outputs": [],
   "source": [
    "job_descriptions_spacy = job_descriptions.apply(preprocess_text)"
   ]
  },
  {
   "cell_type": "code",
   "execution_count": 16,
   "metadata": {},
   "outputs": [],
   "source": [
    "df = pd.read_csv('data/jobs_embed.csv')"
   ]
  },
  {
   "cell_type": "code",
   "execution_count": 17,
   "metadata": {},
   "outputs": [],
   "source": [
    "df['jobDesc_after_spacy'] = job_descriptions_spacy\n",
    "df.to_csv('data/jobs_embed_clean.csv', index=False)\n"
   ]
  },
  {
   "cell_type": "code",
   "execution_count": 31,
   "metadata": {},
   "outputs": [],
   "source": [
    "df = pd.read_csv('data/jobs_embed_clean.csv')"
   ]
  },
  {
   "cell_type": "code",
   "execution_count": 32,
   "metadata": {},
   "outputs": [
    {
     "name": "stdout",
     "output_type": "stream",
     "text": [
      "<class 'pandas.core.frame.DataFrame'>\n",
      "RangeIndex: 97417 entries, 0 to 97416\n",
      "Data columns (total 18 columns):\n",
      " #   Column               Non-Null Count  Dtype \n",
      "---  ------               --------------  ----- \n",
      " 0   jobTitle             97417 non-null  object\n",
      " 1   companyName          97417 non-null  object\n",
      " 2   finalZipcode         97417 non-null  object\n",
      " 3   finalState           97417 non-null  object\n",
      " 4   finalCity            97417 non-null  object\n",
      " 5   companyBranchName    97417 non-null  object\n",
      " 6   jobDescUrl           97417 non-null  object\n",
      " 7   nlpBenefits          60045 non-null  object\n",
      " 8   nlpSkills            88200 non-null  object\n",
      " 9   nlpSoftSkills        73358 non-null  object\n",
      " 10  nlpDegreeLevel       57882 non-null  object\n",
      " 11  nlpEmployment        97417 non-null  object\n",
      " 12  nlpSeniority         97417 non-null  object\n",
      " 13  scrapedLocation      97417 non-null  object\n",
      " 14  jobDesc              97395 non-null  object\n",
      " 15  jobDesc_clean        97395 non-null  object\n",
      " 16  jobDesc_after_spacy  97395 non-null  object\n",
      " 17  id                   97417 non-null  int64 \n",
      "dtypes: int64(1), object(17)\n",
      "memory usage: 13.4+ MB\n"
     ]
    }
   ],
   "source": [
    "df.info()"
   ]
  },
  {
   "cell_type": "code",
   "execution_count": 33,
   "metadata": {},
   "outputs": [
    {
     "data": {
      "text/plain": [
       "array(['job description location summary locate templeton oak tree adventist health twin city serve northern san luis obispo county comprise acute care facility team provide exceptional care emergency medicine orthopedic obstetric digestive disorder wound care medical surgical outpatient service local enjoy weekly farmer market downtown templeton farmtofork dining beautiful landscape hike biking beach day minute away cambria morro bay position summary role represent seiu responsible nuclear imaging newborn pediatric adolescent adult geriatric patient order physician post administration radioactive material position instruct patient nuclear medicine examination adjust imaging equipment determine proper dosage desire exposure time image follow alara guideline job requirement education work experience meet minimum requirement require licensure dhs require understand radiology information system utilization operation require computer literacy require license certification dhs certify technologist require nuclear medicine license include venipuncture require basic life support bls american heart association require organizational requirement adventist health commit safety wellbeing associate patient require associate receive require vaccination include limit measle mumps flu base seasonal availability flu vaccine typically octobermarch year vaccine require hi etc condition employment annually medical religious exemption apply hour work schedule rotate shift hour week hour week fulltime',\n",
       "       'seek radiation therapist fulltime signon bonus join team rtt terre haute radiation therapist summary superficial radiotherapy srt provider operate dermatology arena focus quality customer service found poise large provider srt dermatologist core competency center strive dermatologist aspirin aspect srt solution patient radiation therapist responsibility administer prescribed dose radiation specific body part radiation therapy equipment accord establish practice standard position patient treatment accuracy accord prescription enter datum computer set control operate adjust equipment regulate dosage follow principle radiation protection patient self maintain record report file require include information radiation dosage equipment setting patient reaction review prescription diagnosis patient chart identification conduct treatment session independently accordance longterm treatment plan general direction patient physician check radiation therapy equipment ensure proper operation observe reassure patient treatment report unusual reaction physician turn equipment unexpected adverse reaction occur check effect skin irritation hair loss assess patient reaction treatment educate prepare reassure patient family answer question provide physical assistance reinforce physician advice treatment reaction posttreatment care calculate actual treatment dosage deliver session prepare construct equipment immobilization treatment protection device photograph treat area patient help physician radiation oncologist clinical physicist prepare physical technical aspect radiation treatment plan information patient condition anatomy train supervise student subordinate radiotherapy technologist act liaison physicist supportive care personnel provide assistance healthcare personnel dosimetry procedure tumor localization implement appropriate followup care plan radiation therapist require licensecertification graduate accredited program arrt board certification radiation therapy rtt registry eligible month state licensure applicable radiation therapist benefit fulltime mondayfriday schedule oncall skincure oncology pride aggressively pay rtt manner comparable large institution salary commensurate experience entry level acceptable skincure offer pay time comprehensive benefit packet plan match equal opportunity employer equal employment opportunity continue fundamental principle transplace employment base personal capability qualification discrimination race color religion sex age national origin disability protect characteristic establish law job type fulltime benefit match dental insurance employee assistance program flexible spending account health insurance life insurance pay time vision insurance schedule monday friday supplemental pay signing bonus experience radiation therapy year prefer licensecertification arrt certification radiation therapy prefer ability relocate terre haute relocate start work require work location person permanent',\n",
       "       'delivery driver earn extra cash doordash summary delivery driver doordash flexibility choose hour earn money term use mode transportation easy signup process let start deliver day clear pay structure ability pay daily role offer great opportunity work financial goal time goal doordash available city doordash connect local business local driver call dasher opportunity earn work live dasher boss enjoy flexibility choose earn need mode transportation bike car scooter smartphone start make money simple sign begin work day dasher direct pay day deliver doordash choose hour work totally freedom dash deliver near home city visit easy start not worry car inspection vehicle restriction sign receive need start earn receive delivery right away approve log dasher app receive nearby order immediately know ll clear concise pay model let know minimum accept order not wait pay pay day dash automatically deposit fee earn extra money goal achieve shortterm goal longterm dream drive bike doordash sign detail requirement old car scooter bicycle select city driver license number social security number final step consent background check sign click apply complete sign app prospective dasher arizona california colorado delaware florida georgia idaho kentucky montana new jersey new mexico texas utah west virginia year old keyword delivery driver doordash flexible hour earn extra cash independent contractor day pay work anytime local delivery dasher gig economy',\n",
       "       ...,\n",
       "       'springboard healthcare seek travel cath lab technologist travel job olympia field illinois job description requirements specialty cath lab technologist discipline ally health professional start date asap duration week hour week shift hour employment type travel springboard healthcare job d pay package base hour shift hour week subject confirmation taxfree stipend determine post job title cath lab tech contract',\n",
       "       'overview donohoe construction company seek highly motivated senior superintendent join new construction team position primarily responsible oversee general construction operation project include scheduling activity sequence manpower forecasting placement manage subcontractor specific trade lead project team collaborate project management staff establish donohoe washington dc region old fullservice real estate company large rank washington business journal area private company today donohoe company inc encompass company donohoe construction company donohoe real estate service donohoe hospitality service donohoe development company borger residential complete building service company donohoe team provide comprehensive construction hospitality development property management facility management real estate service ll love work century donohoe wellrespected member community continue engage community live work hotel office company jobsite pride collaborative diverse engaging culture start interview process continue way daytoday benefit perk donohoe offer employee comprehensive benefit package include health dental vision insurance leave absence retirement plan match commuter benefit pay time holiday cellphone hotel discount selection benefit perk strive provide employee option enhance quality life work responsibility overall management coordination job site operation supervise donohoe field staff maintain positive relationship owner design consultant pm coordinate local jurisdiction inspector utility company representative ensure compliance strictly enforce donohoes safety program manage quality control program participate development update master project schedule prepare maintain detailed shortterm schedule lead weekly foremans meeting resolve day day field issue prepare daily report manpower significant activity qualification degree accredited construction relate curriculum bsce bscm bsae etc experience equivalent degree year superintendent constructionrelated experience possess constructionrelate computer software skill scheduling experience work follow project plus office government hitech hospitality healthcare retail multifamily experience lead project range m lee accreditation prefer physical demand sedentary position work consist moderate heavy physical activity employee able walk regularly consistently active construction site daily include climb ladder stair stand extended period access temporary route scaffold work perform employee require bend reach regular consistent basis hold grasp turn lift andor object lbs onsite employee able traverse jobsite avoid obstacle hazard maintain security safety measure personal protective equipment ppe include limit hard hat faceeye gear safety vest provide company employee wear employee time jobsite work require ability speak clearly hear understand distinguish speech andor sound eg machinery alarm traffic work environment primary work perform active construction site work conduct phone call meeting use computer technology write electronic documentation review contractsblueprintsbudget conduct jobsite trailer temporary office onsite location require employee able navigate tight quarter limited turnaround space exterior stair noise level work environment vary reach moderate extreme level short period time work subject inflexible deadline employee subject work normal schedule work hour extreme weather condition telework work donohoe construction field position lend telework work home opportunity salary expect base pay range position salary range dependent variety factor qualification experience eoe include disabilityveteran',\n",
       "       'overview seek dedicated detailoriented janitor join team ideal candidate responsible maintain cleanliness order facility ensure safe hygienic environment occupant role require proactive approach cleaning maintenance task focus commercial space responsibility perform routine cleaning task include sweep mopping vacuuming floor conduct industrial cleaning duty require adhere safety protocol carry custodial responsibility empty trash sanitize restroom replenish supply ensure clean supply stock properly store maintain cleanliness common area hallway entrance respond promptly cleaning request emergency requirement previous experience commercial cleaning custodial service prefer skill buff floor care industrial cleaning technique highly desirable knowledge facility maintenance practice plus ability work independently team strong attention detail commitment maintain high cleanliness standard physical stamina perform cleaning task require lift move item pound excellent time management skill efficiently complete assign duty join team today contribute create clean welcome environment job type parttime pay hour expect hour week schedule monday friday people criminal record encourage apply shift availability day shift preferred ability commute houston tx preferred ability relocate houston tx relocate start work prefer work location person'],\n",
       "      dtype=object)"
      ]
     },
     "execution_count": 33,
     "metadata": {},
     "output_type": "execute_result"
    }
   ],
   "source": [
    "df.jobDesc_after_spacy.unique()"
   ]
  },
  {
   "cell_type": "code",
   "execution_count": 34,
   "metadata": {},
   "outputs": [
    {
     "name": "stdout",
     "output_type": "stream",
     "text": [
      "<class 'pandas.core.frame.DataFrame'>\n",
      "RangeIndex: 97417 entries, 0 to 97416\n",
      "Data columns (total 18 columns):\n",
      " #   Column               Non-Null Count  Dtype \n",
      "---  ------               --------------  ----- \n",
      " 0   jobTitle             97417 non-null  object\n",
      " 1   companyName          97417 non-null  object\n",
      " 2   finalZipcode         97417 non-null  object\n",
      " 3   finalState           97417 non-null  object\n",
      " 4   finalCity            97417 non-null  object\n",
      " 5   companyBranchName    97417 non-null  object\n",
      " 6   jobDescUrl           97417 non-null  object\n",
      " 7   nlpBenefits          60045 non-null  object\n",
      " 8   nlpSkills            88200 non-null  object\n",
      " 9   nlpSoftSkills        73358 non-null  object\n",
      " 10  nlpDegreeLevel       57882 non-null  object\n",
      " 11  nlpEmployment        97417 non-null  object\n",
      " 12  nlpSeniority         97417 non-null  object\n",
      " 13  scrapedLocation      97417 non-null  object\n",
      " 14  jobDesc              97395 non-null  object\n",
      " 15  jobDesc_clean        97395 non-null  object\n",
      " 16  jobDesc_after_spacy  97395 non-null  object\n",
      " 17  id                   97417 non-null  int64 \n",
      "dtypes: int64(1), object(17)\n",
      "memory usage: 13.4+ MB\n"
     ]
    }
   ],
   "source": [
    "# create id column for this dataframe\n",
    "df['id'] = df.index\n",
    "df.to_csv('data/jobs_embed_clean.csv', index=False)\n",
    "df = pd.read_csv('data/jobs_embed_clean.csv')\n",
    "df.info()\n"
   ]
  },
  {
   "cell_type": "code",
   "execution_count": 35,
   "metadata": {},
   "outputs": [
    {
     "data": {
      "text/plain": [
       "array(['job description location summary locate templeton oak tree adventist health twin city serve northern san luis obispo county comprise acute care facility team provide exceptional care emergency medicine orthopedic obstetric digestive disorder wound care medical surgical outpatient service local enjoy weekly farmer market downtown templeton farmtofork dining beautiful landscape hike biking beach day minute away cambria morro bay position summary role represent seiu responsible nuclear imaging newborn pediatric adolescent adult geriatric patient order physician post administration radioactive material position instruct patient nuclear medicine examination adjust imaging equipment determine proper dosage desire exposure time image follow alara guideline job requirement education work experience meet minimum requirement require licensure dhs require understand radiology information system utilization operation require computer literacy require license certification dhs certify technologist require nuclear medicine license include venipuncture require basic life support bls american heart association require organizational requirement adventist health commit safety wellbeing associate patient require associate receive require vaccination include limit measle mumps flu base seasonal availability flu vaccine typically octobermarch year vaccine require hi etc condition employment annually medical religious exemption apply hour work schedule rotate shift hour week hour week fulltime',\n",
       "       'seek radiation therapist fulltime signon bonus join team rtt terre haute radiation therapist summary superficial radiotherapy srt provider operate dermatology arena focus quality customer service found poise large provider srt dermatologist core competency center strive dermatologist aspirin aspect srt solution patient radiation therapist responsibility administer prescribed dose radiation specific body part radiation therapy equipment accord establish practice standard position patient treatment accuracy accord prescription enter datum computer set control operate adjust equipment regulate dosage follow principle radiation protection patient self maintain record report file require include information radiation dosage equipment setting patient reaction review prescription diagnosis patient chart identification conduct treatment session independently accordance longterm treatment plan general direction patient physician check radiation therapy equipment ensure proper operation observe reassure patient treatment report unusual reaction physician turn equipment unexpected adverse reaction occur check effect skin irritation hair loss assess patient reaction treatment educate prepare reassure patient family answer question provide physical assistance reinforce physician advice treatment reaction posttreatment care calculate actual treatment dosage deliver session prepare construct equipment immobilization treatment protection device photograph treat area patient help physician radiation oncologist clinical physicist prepare physical technical aspect radiation treatment plan information patient condition anatomy train supervise student subordinate radiotherapy technologist act liaison physicist supportive care personnel provide assistance healthcare personnel dosimetry procedure tumor localization implement appropriate followup care plan radiation therapist require licensecertification graduate accredited program arrt board certification radiation therapy rtt registry eligible month state licensure applicable radiation therapist benefit fulltime mondayfriday schedule oncall skincure oncology pride aggressively pay rtt manner comparable large institution salary commensurate experience entry level acceptable skincure offer pay time comprehensive benefit packet plan match equal opportunity employer equal employment opportunity continue fundamental principle transplace employment base personal capability qualification discrimination race color religion sex age national origin disability protect characteristic establish law job type fulltime benefit match dental insurance employee assistance program flexible spending account health insurance life insurance pay time vision insurance schedule monday friday supplemental pay signing bonus experience radiation therapy year prefer licensecertification arrt certification radiation therapy prefer ability relocate terre haute relocate start work require work location person permanent',\n",
       "       'delivery driver earn extra cash doordash summary delivery driver doordash flexibility choose hour earn money term use mode transportation easy signup process let start deliver day clear pay structure ability pay daily role offer great opportunity work financial goal time goal doordash available city doordash connect local business local driver call dasher opportunity earn work live dasher boss enjoy flexibility choose earn need mode transportation bike car scooter smartphone start make money simple sign begin work day dasher direct pay day deliver doordash choose hour work totally freedom dash deliver near home city visit easy start not worry car inspection vehicle restriction sign receive need start earn receive delivery right away approve log dasher app receive nearby order immediately know ll clear concise pay model let know minimum accept order not wait pay pay day dash automatically deposit fee earn extra money goal achieve shortterm goal longterm dream drive bike doordash sign detail requirement old car scooter bicycle select city driver license number social security number final step consent background check sign click apply complete sign app prospective dasher arizona california colorado delaware florida georgia idaho kentucky montana new jersey new mexico texas utah west virginia year old keyword delivery driver doordash flexible hour earn extra cash independent contractor day pay work anytime local delivery dasher gig economy',\n",
       "       ...,\n",
       "       'springboard healthcare seek travel cath lab technologist travel job olympia field illinois job description requirements specialty cath lab technologist discipline ally health professional start date asap duration week hour week shift hour employment type travel springboard healthcare job d pay package base hour shift hour week subject confirmation taxfree stipend determine post job title cath lab tech contract',\n",
       "       'overview donohoe construction company seek highly motivated senior superintendent join new construction team position primarily responsible oversee general construction operation project include scheduling activity sequence manpower forecasting placement manage subcontractor specific trade lead project team collaborate project management staff establish donohoe washington dc region old fullservice real estate company large rank washington business journal area private company today donohoe company inc encompass company donohoe construction company donohoe real estate service donohoe hospitality service donohoe development company borger residential complete building service company donohoe team provide comprehensive construction hospitality development property management facility management real estate service ll love work century donohoe wellrespected member community continue engage community live work hotel office company jobsite pride collaborative diverse engaging culture start interview process continue way daytoday benefit perk donohoe offer employee comprehensive benefit package include health dental vision insurance leave absence retirement plan match commuter benefit pay time holiday cellphone hotel discount selection benefit perk strive provide employee option enhance quality life work responsibility overall management coordination job site operation supervise donohoe field staff maintain positive relationship owner design consultant pm coordinate local jurisdiction inspector utility company representative ensure compliance strictly enforce donohoes safety program manage quality control program participate development update master project schedule prepare maintain detailed shortterm schedule lead weekly foremans meeting resolve day day field issue prepare daily report manpower significant activity qualification degree accredited construction relate curriculum bsce bscm bsae etc experience equivalent degree year superintendent constructionrelated experience possess constructionrelate computer software skill scheduling experience work follow project plus office government hitech hospitality healthcare retail multifamily experience lead project range m lee accreditation prefer physical demand sedentary position work consist moderate heavy physical activity employee able walk regularly consistently active construction site daily include climb ladder stair stand extended period access temporary route scaffold work perform employee require bend reach regular consistent basis hold grasp turn lift andor object lbs onsite employee able traverse jobsite avoid obstacle hazard maintain security safety measure personal protective equipment ppe include limit hard hat faceeye gear safety vest provide company employee wear employee time jobsite work require ability speak clearly hear understand distinguish speech andor sound eg machinery alarm traffic work environment primary work perform active construction site work conduct phone call meeting use computer technology write electronic documentation review contractsblueprintsbudget conduct jobsite trailer temporary office onsite location require employee able navigate tight quarter limited turnaround space exterior stair noise level work environment vary reach moderate extreme level short period time work subject inflexible deadline employee subject work normal schedule work hour extreme weather condition telework work donohoe construction field position lend telework work home opportunity salary expect base pay range position salary range dependent variety factor qualification experience eoe include disabilityveteran',\n",
       "       'overview seek dedicated detailoriented janitor join team ideal candidate responsible maintain cleanliness order facility ensure safe hygienic environment occupant role require proactive approach cleaning maintenance task focus commercial space responsibility perform routine cleaning task include sweep mopping vacuuming floor conduct industrial cleaning duty require adhere safety protocol carry custodial responsibility empty trash sanitize restroom replenish supply ensure clean supply stock properly store maintain cleanliness common area hallway entrance respond promptly cleaning request emergency requirement previous experience commercial cleaning custodial service prefer skill buff floor care industrial cleaning technique highly desirable knowledge facility maintenance practice plus ability work independently team strong attention detail commitment maintain high cleanliness standard physical stamina perform cleaning task require lift move item pound excellent time management skill efficiently complete assign duty join team today contribute create clean welcome environment job type parttime pay hour expect hour week schedule monday friday people criminal record encourage apply shift availability day shift preferred ability commute houston tx preferred ability relocate houston tx relocate start work prefer work location person'],\n",
       "      dtype=object)"
      ]
     },
     "execution_count": 35,
     "metadata": {},
     "output_type": "execute_result"
    }
   ],
   "source": [
    "df.jobDesc_after_spacy.unique()"
   ]
  },
  {
   "cell_type": "code",
   "execution_count": 36,
   "metadata": {},
   "outputs": [],
   "source": [
    "#implement fasttext\n",
    "from gensim.models import FastText"
   ]
  },
  {
   "cell_type": "code",
   "execution_count": 37,
   "metadata": {},
   "outputs": [],
   "source": [
    "def train_fasttext(df):\n",
    "    sentences = [text.split() if isinstance(text, str) else [] for text in df['jobDesc_after_spacy']]\n",
    "    sentences = [s for s in sentences if s]\n",
    "    model = FastText(sentences, vector_size=200, window=5, min_count=1, workers=4)\n",
    "    return model\n",
    "\n",
    "model = train_fasttext(df)\n",
    "model.save('data/fasttext_model.bin')\n"
   ]
  },
  {
   "cell_type": "code",
   "execution_count": 38,
   "metadata": {},
   "outputs": [],
   "source": [
    "#load fasttext model\n",
    "model = FastText.load('data/fasttext_model.bin')\n",
    "\n",
    "# generate the job description vectors\n",
    "def generate_job_description_vectors(model, text):\n",
    "    words = text.split() if isinstance(text, str) else []\n",
    "    if not words:\n",
    "        return np.zeros(model.vector_size)\n",
    "    \n",
    "    words_vectors = [model.wv[word] for word in words if word in model.wv]\n",
    "    if not words_vectors:\n",
    "        return np.zeros(model.vector_size)\n",
    "    \n",
    "    doc_vector = np.mean(words_vectors, axis=0)\n",
    "    doc_vector = doc_vector / np.linalg.norm(doc_vector)\n",
    "    return doc_vector.astype(np.float32)\n",
    "\n",
    "job_descriptions_vectors = df['jobDesc_after_spacy'].apply(lambda x: generate_job_description_vectors(model, x))\n"
   ]
  },
  {
   "cell_type": "code",
   "execution_count": 39,
   "metadata": {},
   "outputs": [
    {
     "name": "stdout",
     "output_type": "stream",
     "text": [
      "(97417, 200)\n"
     ]
    }
   ],
   "source": [
    "job_descriptions_vectors = np.array(job_descriptions_vectors.tolist(), dtype=np.float32)\n",
    "print(job_descriptions_vectors.shape) "
   ]
  },
  {
   "cell_type": "code",
   "execution_count": 88,
   "metadata": {},
   "outputs": [
    {
     "name": "stdout",
     "output_type": "stream",
     "text": [
      "Successfully connected to Milvus.\n",
      "Collection jobs_collection created successfully.\n"
     ]
    }
   ],
   "source": [
    "import os\n",
    "from dotenv import load_dotenv\n",
    "load_dotenv()\n",
    "\n",
    "MILVUS_HOST = os.getenv(\"MILVUS_HOST\")\n",
    "MILVUS_PORT = os.getenv(\"MILVUS_PORT\")\n",
    "COLLECTION_NAME = os.getenv(\"COLLECTION_NAME\")\n",
    "\n",
    "connections.connect(alias=\"default\", host=MILVUS_HOST, port=MILVUS_PORT)\n",
    "print(\"Successfully connected to Milvus.\")\n",
    "\n",
    "vector_dim = job_descriptions_vectors.shape[1]\n",
    "\n",
    "fields = [\n",
    "    FieldSchema(name=\"id\", dtype=DataType.INT64, is_primary=True, auto_id=False),\n",
    "    FieldSchema(name=\"job_vector\", dtype=DataType.FLOAT_VECTOR, dim=vector_dim)\n",
    "]\n",
    "\n",
    "\n",
    "collection = Collection(COLLECTION_NAME, schema=CollectionSchema(fields, \"job description vectors\"))\n",
    "print(f\"Collection {COLLECTION_NAME} created successfully.\")\n",
    "\n"
   ]
  },
  {
   "cell_type": "code",
   "execution_count": 89,
   "metadata": {},
   "outputs": [
    {
     "data": {
      "text/plain": [
       "'\\ncollection = Collection(COLLECTION_NAME)\\ncollection.drop()\\nprint(f\"Collection {COLLECTION_NAME} dropped successfully.\")\\n'"
      ]
     },
     "execution_count": 89,
     "metadata": {},
     "output_type": "execute_result"
    }
   ],
   "source": [
    "\"\"\"\n",
    "collection = Collection(COLLECTION_NAME)\n",
    "collection.drop()\n",
    "print(f\"Collection {COLLECTION_NAME} dropped successfully.\")\n",
    "\"\"\"\n"
   ]
  },
  {
   "cell_type": "code",
   "execution_count": 91,
   "metadata": {},
   "outputs": [
    {
     "name": "stdout",
     "output_type": "stream",
     "text": [
      "Collection jobs_collection loaded successfully.\n"
     ]
    }
   ],
   "source": [
    "# create index\n",
    "index_params = {\n",
    "    \"index_type\": \"HNSW\",\n",
    "    \"params\": {\n",
    "        \"M\": 16,\n",
    "        \"efConstruction\": 64\n",
    "    },\n",
    "    \"metric_type\": \"L2\"\n",
    "}\n",
    "collection.create_index('job_vector',index_params)\n",
    "collection.load()\n",
    "print(f\"Collection {COLLECTION_NAME} loaded successfully.\")\n",
    "\n"
   ]
  },
  {
   "cell_type": "code",
   "execution_count": 92,
   "metadata": {},
   "outputs": [
    {
     "name": "stdout",
     "output_type": "stream",
     "text": [
      "Inserted 97417 job description vectors into Milvus.\n"
     ]
    }
   ],
   "source": [
    "#insert data into milvus\n",
    "batch_size = 5000 \n",
    "total_vectors = len(job_descriptions_vectors)\n",
    "job_ids = df['id'].tolist()\n",
    "\n",
    "for i in range(0, total_vectors, batch_size):\n",
    "    batch_vectors = job_descriptions_vectors[i:min(i+batch_size, total_vectors)]\n",
    "    entities = [\n",
    "        list(range(i, min(i+batch_size, total_vectors))),\n",
    "        batch_vectors\n",
    "    ]\n",
    "    collection.insert(entities)\n",
    "collection.flush()\n",
    "print(f\"Inserted {len(job_descriptions_vectors)} job description vectors into Milvus.\")\n"
   ]
  },
  {
   "cell_type": "code",
   "execution_count": 93,
   "metadata": {},
   "outputs": [
    {
     "name": "stdout",
     "output_type": "stream",
     "text": [
      "The number of entities in the collection is: 97417\n",
      "Collection jobs_collection loaded successfully.\n"
     ]
    }
   ],
   "source": [
    "# check the info of the collection\n",
    "print(f\"The number of entities in the collection is: {collection.num_entities}\")\n",
    "\n",
    "#load the collection\n",
    "collection.load()\n",
    "print(f\"Collection {COLLECTION_NAME} loaded successfully.\")"
   ]
  },
  {
   "cell_type": "code",
   "execution_count": 94,
   "metadata": {},
   "outputs": [
    {
     "name": "stdout",
     "output_type": "stream",
     "text": [
      "Result 1: ID=0, Distance=1.0\n",
      "Result 2: ID=9416, Distance=1.1520907878875732\n",
      "Result 3: ID=1298, Distance=1.1536736488342285\n",
      "Result 4: ID=2200, Distance=1.165724128484726\n",
      "Result 5: ID=16548, Distance=1.180286467075348\n",
      "Result 6: ID=8352, Distance=1.1804360747337341\n",
      "Result 7: ID=990, Distance=1.1844389289617538\n",
      "Result 8: ID=1456, Distance=1.1893317699432373\n",
      "Result 9: ID=16261, Distance=1.1893440634012222\n",
      "Result 10: ID=10305, Distance=1.1896536201238632\n",
      "Result 11: ID=6697, Distance=1.1913165748119354\n",
      "Result 12: ID=6669, Distance=1.1922723054885864\n",
      "Result 13: ID=17200, Distance=1.1923773288726807\n",
      "Result 14: ID=19719, Distance=1.1941371411085129\n",
      "Result 15: ID=9803, Distance=1.1948100626468658\n"
     ]
    }
   ],
   "source": [
    "# search the collection\n",
    "query_vector = job_descriptions_vectors[0]\n",
    "top_k = 15\n",
    "\n",
    "if isinstance(query_vector, np.ndarray):\n",
    "    if len(query_vector.shape) == 1:\n",
    "        query_vector = [query_vector.tolist()]\n",
    "    else:\n",
    "        query_vector = query_vector.tolist()\n",
    "elif not isinstance(query_vector[0], list):\n",
    "    query_vector = [query_vector]\n",
    "\n",
    "search_params = {\n",
    "    'metric_type': 'L2',\n",
    "    'params': {'nprobe': 30}\n",
    "}\n",
    "\n",
    "results = collection.search(\n",
    "    data=query_vector,\n",
    "    anns_field=\"job_vector\",\n",
    "    param=search_params,\n",
    "    limit=top_k,\n",
    "    output_fields=[\"id\"]\n",
    ")\n",
    "\n",
    "res = results[0]\n",
    "for i, hit in enumerate(res):\n",
    "    id = hit.entity.id\n",
    "    distance = hit.distance+1\n",
    "    print(f\"Result {i+1}: ID={id}, Distance={distance}\")\n",
    "\n",
    "\n",
    "# save the results to a csv file\n",
    "#results_df = pd.DataFrame(results)\n"
   ]
  },
  {
   "cell_type": "code",
   "execution_count": 95,
   "metadata": {},
   "outputs": [
    {
     "data": {
      "text/plain": [
       "0     job description location summary locate temple...\n",
       "1     seek radiation therapist fulltime signon bonus...\n",
       "2     delivery driver earn extra cash doordash summa...\n",
       "3     information job paramedic bay shore ny start p...\n",
       "4     join fashionobsesse team dedicate styling soci...\n",
       "                            ...                        \n",
       "95    customer service administrator responsible gen...\n",
       "96    delivery driver doordash summary delivery driv...\n",
       "97    pocatello set rocky mountain backdrop eastern ...\n",
       "98    holden farm strive nation progressive innovati...\n",
       "99    apply cover letter resume write sample require...\n",
       "Name: jobDesc_after_spacy, Length: 100, dtype: object"
      ]
     },
     "execution_count": 95,
     "metadata": {},
     "output_type": "execute_result"
    }
   ],
   "source": [
    "\n",
    "df['jobDesc_after_spacy'][:100]\n"
   ]
  },
  {
   "cell_type": "code",
   "execution_count": 99,
   "metadata": {},
   "outputs": [],
   "source": [
    "precision_scores = []\n",
    "recall_scores = []\n",
    "ap_scores = []\n",
    "\n",
    "def evaluate_search_system(test_queries, collection, top_k=15):\n",
    "    \n",
    "    model = FastText.load('data/fasttext_model.bin')\n",
    "    for query, relevant_docs in test_queries.items():\n",
    "        query_vector = generate_job_description_vectors(model, query)\n",
    "        query_vector = [query_vector.tolist()] \n",
    "        search_params = {\n",
    "        \"metric_type\": \"L2\",\n",
    "        \"params\": {\"nprobe\": 30}\n",
    "        }\n",
    "        \n",
    "        results = collection.search(\n",
    "            data=query_vector,\n",
    "            anns_field=\"job_vector\",\n",
    "            param=search_params,\n",
    "            limit=top_k,\n",
    "            output_fields=[\"id\"]\n",
    "        )\n",
    "        \n",
    "        if results is None:\n",
    "            print(f\"No results found for query: {query}\")\n",
    "        \n",
    "        formatted_results = []\n",
    "        for i, hits in enumerate(results):\n",
    "            query_results = []\n",
    "            for hit in hits:\n",
    "                item = {\n",
    "                    \"id\": hit.entity.id,\n",
    "                    \"distance\": hit.distance\n",
    "                }\n",
    "                query_results.append(item)\n",
    "            formatted_results.append(query_results)\n",
    "            \n",
    "        \n",
    "        \n",
    "        retrieved_docs = [hit['id'] for hit in formatted_results[0]]\n",
    "        relevant_retrieved = set(retrieved_docs) & set(relevant_docs)\n",
    "        \n",
    "        \n",
    "        \n",
    "        precision = len(relevant_retrieved) / len(retrieved_docs) if retrieved_docs else 0\n",
    "        precision_scores.append(precision)\n",
    "        \n",
    "        recall = len(relevant_retrieved) / len(relevant_docs) if relevant_docs else 0\n",
    "        recall_scores.append(recall)\n",
    "        \n",
    "        ap = 0\n",
    "        hits = 0\n",
    "        \n",
    "        for i, doc_id in enumerate(retrieved_docs):\n",
    "            if doc_id in relevant_docs:\n",
    "                hits += 1\n",
    "                precision_at_k = hits / (i + 1) \n",
    "                ap += precision_at_k\n",
    "        \n",
    "        \n",
    "        ap = ap / len(relevant_docs) if relevant_docs else 0\n",
    "        ap_scores.append(ap)\n",
    "\n",
    "\n",
    "    "
   ]
  },
  {
   "cell_type": "code",
   "execution_count": 100,
   "metadata": {},
   "outputs": [
    {
     "name": "stdout",
     "output_type": "stream",
     "text": [
      "precision: 0.35559495254978896, recall: 0.11112342267181145, map: 0.09541271248305144, f1_score: 0.1693309297856166, num_queries: 9589, queries_evaluated: 9589\n"
     ]
    }
   ],
   "source": [
    "import json\n",
    "with open('data/search_test_dataset.json', 'r') as f:\n",
    "    test_queries = json.load(f)\n",
    "    \n",
    "evaluate_search_system(test_queries, collection, top_k=5)\n",
    "avg_precision = sum(precision_scores) / len(precision_scores) if precision_scores else 0\n",
    "avg_recall = sum(recall_scores) / len(recall_scores) if recall_scores else 0\n",
    "map_score = sum(ap_scores) / len(ap_scores) if ap_scores else 0\n",
    "f1_score = 2 * (avg_precision * avg_recall) / (avg_precision + avg_recall) if (avg_precision + avg_recall) > 0 else 0\n",
    "\n",
    "print(f'precision: {avg_precision}, recall: {avg_recall}, map: {map_score}, f1_score: {f1_score}, num_queries: {len(test_queries)}, queries_evaluated: {len(precision_scores)}')"
   ]
  }
 ],
 "metadata": {
  "kernelspec": {
   "display_name": "Python 3",
   "language": "python",
   "name": "python3"
  },
  "language_info": {
   "codemirror_mode": {
    "name": "ipython",
    "version": 3
   },
   "file_extension": ".py",
   "mimetype": "text/x-python",
   "name": "python",
   "nbconvert_exporter": "python",
   "pygments_lexer": "ipython3",
   "version": "3.9.21"
  }
 },
 "nbformat": 4,
 "nbformat_minor": 4
}
