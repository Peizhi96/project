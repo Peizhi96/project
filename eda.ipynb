{
 "cells": [
  {
   "cell_type": "code",
   "execution_count": 4,
   "metadata": {},
   "outputs": [],
   "source": [
    "import numpy as np\n",
    "import pandas as pd\n"
   ]
  },
  {
   "cell_type": "markdown",
   "metadata": {},
   "source": [
    "## EDA"
   ]
  },
  {
   "cell_type": "code",
   "execution_count": 5,
   "metadata": {},
   "outputs": [],
   "source": [
    "#df = pd.read_csv('data/jobs.csv')"
   ]
  },
  {
   "cell_type": "code",
   "execution_count": 4,
   "metadata": {},
   "outputs": [
    {
     "data": {
      "text/plain": [
       "'\\nprint(f\"Number of rows: {df.shape[0]}\")\\nprint(f\"Number of columns: {df.shape[1]}\")\\nprint(\"-\"*100)\\nprint(f\"Number of missing values: {df.isnull().sum().sum()}\")\\nprint(\"-\"*100)\\nprint(f\"Number of duplicated rows: {df.duplicated().sum()}\")\\nprint(\"-\"*100)\\n'"
      ]
     },
     "execution_count": 4,
     "metadata": {},
     "output_type": "execute_result"
    }
   ],
   "source": [
    "\"\"\"\n",
    "print(f\"Number of rows: {df.shape[0]}\")\n",
    "print(f\"Number of columns: {df.shape[1]}\")\n",
    "print(\"-\"*100)\n",
    "print(f\"Number of missing values: {df.isnull().sum().sum()}\")\n",
    "print(\"-\"*100)\n",
    "print(f\"Number of duplicated rows: {df.duplicated().sum()}\")\n",
    "print(\"-\"*100)\n",
    "\"\"\""
   ]
  },
  {
   "cell_type": "code",
   "execution_count": 5,
   "metadata": {},
   "outputs": [],
   "source": [
    "# drop missing values and reset index\n",
    "#df_clean = df.dropna().reset_index(drop=True)   \n",
    "\n",
    "# drop id column\n",
    "#df_clean = df_clean.drop(columns=['lid'])\n"
   ]
  },
  {
   "cell_type": "code",
   "execution_count": 6,
   "metadata": {},
   "outputs": [],
   "source": [
    "# save the cleaned data to a new csv file\n",
    "#df_clean.to_csv('data/jobs_clean.csv', index=False)"
   ]
  },
  {
   "cell_type": "code",
   "execution_count": 6,
   "metadata": {},
   "outputs": [
    {
     "name": "stdout",
     "output_type": "stream",
     "text": [
      "<class 'pandas.core.frame.DataFrame'>\n",
      "RangeIndex: 97417 entries, 0 to 97416\n",
      "Data columns (total 16 columns):\n",
      " #   Column             Non-Null Count  Dtype \n",
      "---  ------             --------------  ----- \n",
      " 0   jobTitle           97417 non-null  object\n",
      " 1   companyName        97417 non-null  object\n",
      " 2   jobDescRaw         97417 non-null  object\n",
      " 3   finalZipcode       97417 non-null  object\n",
      " 4   finalState         97417 non-null  object\n",
      " 5   finalCity          97417 non-null  object\n",
      " 6   companyBranchName  97417 non-null  object\n",
      " 7   jobDescUrl         97417 non-null  object\n",
      " 8   nlpBenefits        97417 non-null  object\n",
      " 9   nlpSkills          97417 non-null  object\n",
      " 10  nlpSoftSkills      97417 non-null  object\n",
      " 11  nlpDegreeLevel     97417 non-null  object\n",
      " 12  nlpEmployment      97417 non-null  object\n",
      " 13  nlpSeniority       97417 non-null  object\n",
      " 14  correctDate        97417 non-null  object\n",
      " 15  scrapedLocation    97417 non-null  object\n",
      "dtypes: object(16)\n",
      "memory usage: 11.9+ MB\n"
     ]
    }
   ],
   "source": [
    "df = pd.read_csv('data/jobs_clean.csv')\n",
    "df.info()"
   ]
  },
  {
   "cell_type": "code",
   "execution_count": 7,
   "metadata": {},
   "outputs": [],
   "source": [
    "pd.set_option('display.max_columns', None)  "
   ]
  },
  {
   "cell_type": "code",
   "execution_count": 8,
   "metadata": {},
   "outputs": [
    {
     "name": "stdout",
     "output_type": "stream",
     "text": [
      "jobTitle: Nuclear Medicine Tech, Full Time, Day Shift\n",
      "companyName: Adventist Health\n",
      "jobDescRaw: <div class=\"normalText\"><p>Job Description</p>\n",
      "<p style=\"height:6px;\"></p>\n",
      "<p>LOCATION SUMMARY:</p>\n",
      "<p>Located in Templeton amongst the oak trees, Adventist Health Twin Cities has been serving northern San Luis Obispo County since 1977. Comprised of a 122-bed acute care facility, our team provides exceptional care in emergency medicine, orthopedics, obstetrics, digestive disorders, wound care, and various medical, surgical and outpatient services. Locals enjoy weekly farmers markets in downtown Templeton, farm-to-fork dining, beautiful landscapes for hiking and biking, and beach days just fifteen minutes away at Cambria and Morro Bay.</p>\n",
      "<p style=\"height:6px;\"></p>\n",
      "<p>POSITION SUMMARY:</p>\n",
      "<p>This role is represented by the SEIU. Responsible for the Nuclear Imaging of the newborn, pediatric, adolescent, adult and geriatric patient as ordered by the physician post administration of a radioactive material. Positions and instructs the patient for Nuclear Medicine examinations, adjusts the imaging equipment, determines proper dosage and desired exposure time for each image following ALARA guidelines.</p>\n",
      "<p style=\"height:6px;\"></p>\n",
      "<p>JOB REQUIREMENTS:</p>\n",
      "<p>Education and Work Experience:</p>\n",
      "<p>Must have met minimum requirements required for licensure by DHS: Required</p>\n",
      "<p>Understands radiology information systems utilization and operation: Required</p>\n",
      "<p>Computer literacy: Required</p>\n",
      "<p style=\"height:6px;\"></p>\n",
      "<p>Licenses and Certifications:</p>\n",
      "<p>DHS Certified Technologist: Required</p>\n",
      "<p>Nuclear Medicine license to include Veni-puncture: Required</p>\n",
      "<p>Basic Life Support (BLS) through the American Heart Association: Required</p>\n",
      "<p style=\"height:6px;\"></p>\n",
      "<p>ORGANIZATIONAL REQUIREMENTS:</p>\n",
      "<p>Adventist Health is committed to the safety and wellbeing of our associates and patients. Therefore, we require that all associates receive all required vaccinations, including, but not limited to, measles, mumps, flu (based on the seasonal availability of the flu vaccine typically during October-March each year), COVID-19 vaccine (required in CA, HI and OR) etc., as a condition of employment, and annually thereafter. Medical and religious exemptions may apply.</p>\n",
      "<p style=\"height:6px;\"></p>\n",
      "<p>8 Hour Work Schedule, Rotating Shifts</p>\n",
      "<p>40 hours per week, 80 hours per week</p>\n",
      "<p style=\"height:6px;\"></p>\n",
      "<p>Full-time</p></div>\n",
      "finalZipcode: 93465\n",
      "finalState: CA,\n",
      "finalCity: Templeton\n",
      "companyBranchName: Adventist Health || Templeton, CA, 93465\n",
      "jobDescUrl: https://www.postjobfree.com/job/vubjwa/nuclear-medicine-tech-full-templeton-ca\n",
      "nlpBenefits: []\n",
      "nlpSkills: ['Nuclear Medicine', 'Wound Care', 'Digestive Disorders', 'Acute Care', 'Life Support', 'Radiology Information Systems', 'Orthopedics', 'Emergency Medicine', 'Radioactive Materials']\n",
      "nlpSoftSkills: ['Computer Literacy']\n",
      "nlpDegreeLevel: ['Associates']\n",
      "nlpEmployment: Full-time\n",
      "nlpSeniority: Entry level\n",
      "correctDate: 2025-01-06 00:00:00\n",
      "scrapedLocation: Templeton, CA, 93465\n"
     ]
    }
   ],
   "source": [
    "# print out all the columns of the first row\n",
    "for i in range(len(df.columns)):\n",
    "    print(f\"{df.columns[i]}: {df.iloc[0, i]}\")"
   ]
  },
  {
   "cell_type": "code",
   "execution_count": 9,
   "metadata": {},
   "outputs": [],
   "source": [
    "df.drop(columns=['correctDate'], inplace=True)"
   ]
  },
  {
   "cell_type": "code",
   "execution_count": 10,
   "metadata": {},
   "outputs": [],
   "source": [
    "list_cols = ['nlpBenefits', 'nlpSkills', 'nlpSoftSkills', 'nlpDegreeLevel']\n",
    "for col in list_cols:\n",
    "    df[col] = df[col].apply(lambda x: eval(x) if isinstance(x, str) and x.startswith('[') else x)\n",
    "    # Convert empty lists to [None] in specified columns\n",
    "    df[col] = df[col].apply(lambda x: [None] if isinstance(x, list) and len(x) == 0 else x)\n",
    "    # remove duplicates within the list\n",
    "    df[col] = df[col].apply(lambda x: list(set(x)) if isinstance(x, list) else x)\n",
    "    # convert list into string with join\n",
    "    df[col] = df[col].apply(lambda x: ' '.join(str(s) for s in x) if isinstance(x, list) else x)\n"
   ]
  },
  {
   "cell_type": "code",
   "execution_count": 11,
   "metadata": {},
   "outputs": [
    {
     "data": {
      "text/plain": [
       "'Hsa/Fsa Vision Insurance Dental Insurance Eap Paid Time Off Health Insurance 401K Life Insurance'"
      ]
     },
     "execution_count": 11,
     "metadata": {},
     "output_type": "execute_result"
    }
   ],
   "source": [
    "df['nlpBenefits'][1]"
   ]
  },
  {
   "cell_type": "code",
   "execution_count": 13,
   "metadata": {},
   "outputs": [
    {
     "name": "stdout",
     "output_type": "stream",
     "text": [
      "Defaulting to user installation because normal site-packages is not writeable\n",
      "Collecting bs4\n",
      "  Downloading bs4-0.0.2-py2.py3-none-any.whl (1.2 kB)\n",
      "Collecting beautifulsoup4\n",
      "  Downloading beautifulsoup4-4.13.3-py3-none-any.whl (186 kB)\n",
      "\u001b[K     |████████████████████████████████| 186 kB 4.0 MB/s eta 0:00:01\n",
      "\u001b[?25hCollecting soupsieve>1.2\n",
      "  Downloading soupsieve-2.6-py3-none-any.whl (36 kB)\n",
      "Requirement already satisfied: typing-extensions>=4.0.0 in /Users/Peizhi/Library/Python/3.9/lib/python/site-packages (from beautifulsoup4->bs4) (4.13.0)\n",
      "Installing collected packages: soupsieve, beautifulsoup4, bs4\n",
      "Successfully installed beautifulsoup4-4.13.3 bs4-0.0.2 soupsieve-2.6\n",
      "\u001b[33mWARNING: You are using pip version 21.2.4; however, version 25.0.1 is available.\n",
      "You should consider upgrading via the '/Applications/Xcode.app/Contents/Developer/usr/bin/python3 -m pip install --upgrade pip' command.\u001b[0m\n",
      "Note: you may need to restart the kernel to use updated packages.\n"
     ]
    }
   ],
   "source": [
    "pip install bs4"
   ]
  },
  {
   "cell_type": "code",
   "execution_count": 14,
   "metadata": {},
   "outputs": [],
   "source": [
    "from bs4 import BeautifulSoup\n",
    "\n",
    "# utilze the function to clean the html text in the jobDescRaw column\n",
    "def clean_html_text(text):\n",
    "    soup = BeautifulSoup(text, 'html.parser')\n",
    "    return soup.get_text(separator=' ', strip=True)\n",
    "\n",
    "df['jobDesc'] = df['jobDescRaw'].apply(clean_html_text)"
   ]
  },
  {
   "cell_type": "code",
   "execution_count": 15,
   "metadata": {},
   "outputs": [],
   "source": [
    "df.drop(columns=['jobDescRaw'], inplace=True)"
   ]
  },
  {
   "cell_type": "code",
   "execution_count": 16,
   "metadata": {},
   "outputs": [
    {
     "name": "stdout",
     "output_type": "stream",
     "text": [
      "<class 'pandas.core.frame.DataFrame'>\n",
      "RangeIndex: 97417 entries, 0 to 97416\n",
      "Data columns (total 15 columns):\n",
      " #   Column             Non-Null Count  Dtype \n",
      "---  ------             --------------  ----- \n",
      " 0   jobTitle           97417 non-null  object\n",
      " 1   companyName        97417 non-null  object\n",
      " 2   finalZipcode       97417 non-null  object\n",
      " 3   finalState         97417 non-null  object\n",
      " 4   finalCity          97417 non-null  object\n",
      " 5   companyBranchName  97417 non-null  object\n",
      " 6   jobDescUrl         97417 non-null  object\n",
      " 7   nlpBenefits        97417 non-null  object\n",
      " 8   nlpSkills          97417 non-null  object\n",
      " 9   nlpSoftSkills      97417 non-null  object\n",
      " 10  nlpDegreeLevel     97417 non-null  object\n",
      " 11  nlpEmployment      97417 non-null  object\n",
      " 12  nlpSeniority       97417 non-null  object\n",
      " 13  scrapedLocation    97417 non-null  object\n",
      " 14  jobDesc            97417 non-null  object\n",
      "dtypes: object(15)\n",
      "memory usage: 11.1+ MB\n"
     ]
    }
   ],
   "source": [
    "df.info()"
   ]
  },
  {
   "cell_type": "code",
   "execution_count": 17,
   "metadata": {},
   "outputs": [
    {
     "name": "stdout",
     "output_type": "stream",
     "text": [
      "count               97417\n",
      "unique              49871\n",
      "top       Delivery Driver\n",
      "freq                  733\n",
      "Name: jobTitle, dtype: object\n",
      "count        97417\n",
      "unique       24460\n",
      "top       DoorDash\n",
      "freq          4438\n",
      "Name: companyName, dtype: object\n",
      "count      97417\n",
      "unique     17364\n",
      "top       remote\n",
      "freq         632\n",
      "Name: finalZipcode, dtype: object\n",
      "count     97417\n",
      "unique      178\n",
      "top          CA\n",
      "freq       5126\n",
      "Name: finalState, dtype: object\n",
      "count        97417\n",
      "unique        6995\n",
      "top       New York\n",
      "freq           751\n",
      "Name: finalCity, dtype: object\n",
      "count                                       97417\n",
      "unique                                      70249\n",
      "top       Barcadia Bar & Grill || New Orleans, LA\n",
      "freq                                          139\n",
      "Name: companyBranchName, dtype: object\n",
      "count                                                 97417\n",
      "unique                                                97417\n",
      "top       https://www.postjobfree.com/job/vubjwa/nuclear...\n",
      "freq                                                      1\n",
      "Name: jobDescUrl, dtype: object\n",
      "count     97417\n",
      "unique     5880\n",
      "top        None\n",
      "freq      37372\n",
      "Name: nlpBenefits, dtype: object\n",
      "count     97417\n",
      "unique    47431\n",
      "top        None\n",
      "freq       9217\n",
      "Name: nlpSkills, dtype: object\n",
      "count     97417\n",
      "unique    32461\n",
      "top        None\n",
      "freq      24059\n",
      "Name: nlpSoftSkills, dtype: object\n",
      "count     97417\n",
      "unique      166\n",
      "top        None\n",
      "freq      39535\n",
      "Name: nlpDegreeLevel, dtype: object\n",
      "count         97417\n",
      "unique            7\n",
      "top       Full-time\n",
      "freq          67232\n",
      "Name: nlpEmployment, dtype: object\n",
      "count           97417\n",
      "unique              6\n",
      "top       Entry level\n",
      "freq            46464\n",
      "Name: nlpSeniority, dtype: object\n",
      "count           97417\n",
      "unique          20973\n",
      "top       Chicago, IL\n",
      "freq              430\n",
      "Name: scrapedLocation, dtype: object\n",
      "count                                                 97417\n",
      "unique                                                87594\n",
      "top       Local CDL-A Truck Drivers Wanted for Dedicated...\n",
      "freq                                                    134\n",
      "Name: jobDesc, dtype: object\n"
     ]
    }
   ],
   "source": [
    "# access the basic information of each column\n",
    "for col in df.columns:\n",
    "    print(df[col].describe())\n"
   ]
  },
  {
   "cell_type": "markdown",
   "metadata": {},
   "source": [
    "There are several informations we can get from this dataset:\n",
    "- DoorDash being the top employer and Delivery Driver being the top job title suggests a strong presence of gig/delivery jobs in the dataset.\n",
    "- \"Remote\" appearing as the top zipcode indicates the dataset likely includes a significant number of remote positions.\n",
    "- California, New York, and Chicago appear to be hotspots for job postings.\n",
    "- A substantial number of entries lack specified benefits, skills, and education requirements (as indicated by \"None\" values).\n",
    "- The dataset is heavily skewed toward full-time and entry-level positions."
   ]
  },
  {
   "cell_type": "code",
   "execution_count": 18,
   "metadata": {},
   "outputs": [
    {
     "name": "stdout",
     "output_type": "stream",
     "text": [
      "<class 'pandas.core.frame.DataFrame'>\n",
      "RangeIndex: 97417 entries, 0 to 97416\n",
      "Data columns (total 15 columns):\n",
      " #   Column             Non-Null Count  Dtype \n",
      "---  ------             --------------  ----- \n",
      " 0   jobTitle           97417 non-null  object\n",
      " 1   companyName        97417 non-null  object\n",
      " 2   finalZipcode       97417 non-null  object\n",
      " 3   finalState         97417 non-null  object\n",
      " 4   finalCity          97417 non-null  object\n",
      " 5   companyBranchName  97417 non-null  object\n",
      " 6   jobDescUrl         97417 non-null  object\n",
      " 7   nlpBenefits        97417 non-null  object\n",
      " 8   nlpSkills          97417 non-null  object\n",
      " 9   nlpSoftSkills      97417 non-null  object\n",
      " 10  nlpDegreeLevel     97417 non-null  object\n",
      " 11  nlpEmployment      97417 non-null  object\n",
      " 12  nlpSeniority       97417 non-null  object\n",
      " 13  scrapedLocation    97417 non-null  object\n",
      " 14  jobDesc            97417 non-null  object\n",
      "dtypes: object(15)\n",
      "memory usage: 11.1+ MB\n"
     ]
    }
   ],
   "source": [
    "df.info()"
   ]
  },
  {
   "cell_type": "code",
   "execution_count": 18,
   "metadata": {},
   "outputs": [
    {
     "data": {
      "text/plain": [
       "remote    632\n",
       "80012     108\n",
       "89119      83\n",
       "67232      81\n",
       "30604      80\n",
       "         ... \n",
       "85709       1\n",
       "61485       1\n",
       "98113       1\n",
       "32859       1\n",
       "54927       1\n",
       "Name: finalZipcode, Length: 17364, dtype: int64"
      ]
     },
     "execution_count": 18,
     "metadata": {},
     "output_type": "execute_result"
    }
   ],
   "source": [
    "df.finalZipcode.value_counts()"
   ]
  },
  {
   "cell_type": "code",
   "execution_count": 19,
   "metadata": {},
   "outputs": [
    {
     "data": {
      "text/plain": [
       "None                                                                               39535\n",
       "Certificate                                                                        12235\n",
       "Bachelors                                                                           5880\n",
       "High School                                                                         5729\n",
       "Associates                                                                          4774\n",
       "                                                                                   ...  \n",
       "Masters Bachelors Doctoral Associates Postmasters Certificate Certificate              1\n",
       "Bachelors Associates Postmasters Certificate                                           1\n",
       "Associates Unknown Masters Doctoral                                                    1\n",
       "Masters Bachelors Associates Doctoral Postbaccalaureate Certificate Certificate        1\n",
       "Doctoral Unknown Certificate Masters                                                   1\n",
       "Name: nlpDegreeLevel, Length: 119, dtype: int64"
      ]
     },
     "execution_count": 19,
     "metadata": {},
     "output_type": "execute_result"
    }
   ],
   "source": [
    "df.nlpDegreeLevel.value_counts()"
   ]
  },
  {
   "cell_type": "code",
   "execution_count": 19,
   "metadata": {},
   "outputs": [
    {
     "data": {
      "text/plain": [
       "jobDesc\n",
       "Local CDL-A Truck Drivers Wanted for Dedicated Account. Home Daily $1,500 Minimum Weekly Guarantee Newer Trucks Full Benefits Apply Now                                                                                                                                                                                                                                                                                                                                                                                                                                                                                                                                                                                                                                                                                                                                                                                                                                                                                                                                                                                                                                                                                                                                                                                                                                                                                                                                                                                                                                                                                                                                                                                                                                                                                                                                                                                                                                                                                                                                                                                                                                                                                                                                                                                                                                                                                                                                                                                                                                                                                                                                                                                                                                                                                                                                                                                                                                                                                                                                                                                                                                                                                                                                                                                                                                                                                                                                                                                                                                                                                                                                                                                                                                                                                                                                                                                                                                                                                                                                                                                                                                                                                                                                                                                                                                                                                                                                                                                                                                                                                                                                                                                                                                                                                                                                                                                                                                                                                                                                                                                                                                                                                                                                                                                                                                                                                                                                                                                                                                                                                                                                                                                                                                                                                                                                                                                                                                                                                                                                                                                                                                                                                                                                                                                                                                                                                                                                                                                                                                                                                                                                                                                                                                                                                                                                                                                                                                                                                                                                                                                                                                                                                                                                                                                                                                                                                                                                                                                                                                                              134\n",
       "CDL-A Local Truck Drivers are the champions of the local area, earning the opportunity to develop long-term relationship with the customers they serve. As a local driver, you'll enjoy in-cab technology that makes communicating with dispatch and navigating routes a seamless process. If it's daily home time you're looking for, then becoming a local driver is an ideal position for you! CDL-A Local Driver Benefits Competitive hourly pay based on experience Daily home time Paid time off including 8 paid holidays (after 90 days)                                                                                                                                                                                                                                                                                                                                                                                                                                                                                                                                                                                                                                                                                                                                                                                                                                                                                                                                                                                                                                                                                                                                                                                                                                                                                                                                                                                                                                                                                                                                                                                                                                                                                                                                                                                                                                                                                                                                                                                                                                                                                                                                                                                                                                                                                                                                                                                                                                                                                                                                                                                                                                                                                                                                                                                                                                                                                                                                                                                                                                                                                                                                                                                                                                                                                                                                                                                                                                                                                                                                                                                                                                                                                                                                                                                                                                                                                                                                                                                                                                                                                                                                                                                                                                                                                                                                                                                                                                                                                                                                                                                                                                                                                                                                                                                                                                                                                                                                                                                                                                                                                                                                                                                                                                                                                                                                                                                                                                                                                                                                                                                                                                                                                                                                                                                                                                                                                                                                                                                                                                                                                                                                                                                                                                                                                                                                                                                                                                                                                                                                                                                                                                                                                                                                                                                                                                                                                                                                                                                                                                                      94\n",
       "What you'll do at WALMART TRANSPORTATION is Hiring CDL-A Drivers! Walmart wants to help you find your place - a stress-free, flexible work environment where drivers are treated with respect. A place where a well-deserved break with family balances out the hours you log on the road. Where highly competitive pay and smart benefits fit your way of life. This is that place. This is Walmart. And we have immediate openings for full-time drivers. If you’re looking to find a home on the road, join the Walmart Transportation team today. What You’ll Get Benefits Our drivers enjoy a great balance between work and life, as well as top pay. As a professional truck driver with Walmart, you can enjoy the following benefits: Average $87,500 or the Equivalent of $0.89 per Mile in Year 1 Activity, Training, and Mileage Pay from Day 1 Quarterly Safe Driving Bonuses No Loading or Unloading Freight Home Once a Week as Well as Reset Hours Not Spent on the Road Medical Plan Benefits That Start on Day 1 Additional Life Insurance, Dental, Vision and Pharmacy Benefits Offered Option to Enroll in Our 401K Plan and Stock Purchase Program Opportunity to Earn Up to 21 Paid Days Off in Your First Year The number one reason our drivers leave is retirement - our turnover is one of the lowest in the industry! Don’t miss out on this great opportunity. Review our minimum qualifications and apply today! About Walmart At Walmart, we help people save money so they can live better. This mission serves as the foundation for every decision we make, from responsible sourcing to sustainability—and everything in between. As a Walmart associate, you will play an integral role in shaping the future of retail, tech, merchandising, finance and hundreds of other industries—all while affecting the lives of millions of customers all over the world. Here, your work makes an impact every day. What are you waiting for?                                                                                                                                                                                                                                                                                                                                                                                                                                                                                                                                                                                                                                                                                                                                                                                                                                                                                                                                                                                                                                                                                                                                                                                                                                                                                                                                                                                                                                                                                                                                                                                                                                                                                                                                                                                                                                                                                                                                                                                                                                                                                                                                                                                                                                                                                                                                                                                                                                                                                                                                                                                                                                                                                                                                                                                                                                                                                                                                                                                                                                                                                                                                                                                                                                                                                                                                                                                                                                                                                                                                                                                                                                                                                                                                                                                                                                                                                                                                                                                                                                                                                                                                                                                                                                                                                                                                                                                                                                                                                                                                                                                                                                                                                                                                                                                                                                                                                                                                                                                                                                                                                                                                                                                                                                                                                                                                                                                                                                                                                                                                                                                                                             90\n",
       "Now accepting applicants for Focus Group studies. Earn up to $750 per week part-time working from home. Must register to see if you qualify. No Data Entry experience needed. Data Entry Clerk Work From Home - Part Time Remote Focus Group Panelists Our company is seeking individuals to participate in National & Local Paid Focus Groups, Clinical Trials, and Market Research assignments. With most of our paid focus group studies, you have the option to participate remotely online or in-person. This is a great way to earn additional income from the comfort of your home. Compensation $75-$150 (per 1 hour session) $300-$750 (multi-session studies) Job Requirements Show up at least 10 mins before discussion start time. Participate by completing written and oral instructions. Complete written survey provided for each panel. MUST actually use products and/or services, if provided. Then be ready to discuss PRIOR to meeting date. Qualifications Must have either a smartphone with working camera or desktop/laptop with webcam Must have access to high speed internet connection Desire to fully participate in one or several of the above topics Ability to read, understand, and follow oral and written instructions. Data entry clerk experience is not necessary. Job Benefits Flexibility to take part in discussions online or in-person. No commute needed should you choose to work from home remotely. No minimum hours. You can do this part-time or full-time Enjoy free samples from our sponsors and partners in exchange for your honest feedback of their products. You get to review and use new products or services before they are released to the public. You must apply on our website and complete a set of questionnaire to see if you qualify. This position is perfect for anyone looking for temporary, part-time or full-time work. The hours are flexible and no previous experience is required. If you are a data entry clerk or someone just looking for a flexible part time remote work from home job, this is a great way to supplement your income.                                                                                                                                                                                                                                                                                                                                                                                                                                                                                                                                                                                                                                                                                                                                                                                                                                                                                                                                                                                                                                                                                                                                                                                                                                                                                                                                                                                                                                                                                                                                                                                                                                                                                                                                                                                                                                                                                                                                                                                                                                                                                                                                                                                                                                                                                                                                                                                                                                                                                                                                                                                                                                                                                                                                                                                                                                                                                                                                                                                                                                                                                                                                                                                                                                                                                                                                                                                                                                                                                                                                                                                                                                                                                                                                                                                                                                                                                                                                                                                                                                                                                                                                                                                                                                                                                                                                                                                                                                                                                                                                                                                                                                                                                                                                                                                                                                                                                                                                                                                                                                                                                                                                                                                                                                                                                                                                                                                                                                                                          78\n",
       "CULTIVAR UN MUNDO MEJOR La comida que se sirve rápido no tiene que ser una experiencia típica de comida rápida. Chipotle siempre ha hecho las cosas de manera diferente, tanto dentro como fuera de nuestros restaurantes. Estamos cambiando la cara de la comida rápida, iniciando conversaciones y apoyando directamente los esfuerzos para cambiar el futuro de la agricultura y la alimentación. Esperamos que se una a nosotros a medida que continuamos aprendiendo, evolucionando y dando forma a lo que viene a continuación en nuestra misión de hacer que los mejores alimentos sean accesibles para todos. En Chipotle, hemos creado algo especial: un mejor lugar para comer y para trabajar. Muchos empleados empiezan a trabajar esperando recibir sólo un cheque de pago, pero terminan con una carrera profesional gratificante. Proporcionamos un programa de capacitación excepcional y un plan de carrera claro: más del 80% de nuestros gerentes fueron ascendidos desde crew. LA OPORTUNIDAD En Chipotle, hemos creado un lugar mejor para comer y trabajar. Muchos empleados empiezan esperando sólo un sueldo, pero acaban desarrollando una carrera gratificante. Ofrecemos una formación excepcional y una clara trayectoria profesional: más del 80 % de nuestros directivos ascendieron desde miembro del equipo. En nuestros restaurantes preparamos a mano comida de verdad todos los días. No hay congeladores, microondas ni abrelatas. Acogemos por igual a profesionales de restaurantes con experiencia y a principiantes. Le proporcionaremos la formación necesaria para que se sienta seguro trabajando en cualquier puesto: parrilla, caja, preparación, salsa y exposición. Estamos orgullosos de nuestro excepcional servicio de atención al cliente, y depende de cada uno de los miembros de nuestro equipo crear el ambiente agradable que nuestros clientes esperan y disfrutan. Así que, tanto si tienes experiencia como lavaplatos, cajero, camarero, anfitrión, barman, cocinero, cocinero de preparación, FOH/BOH o ninguna experiencia en absoluto, siempre estamos buscando personas apasionadas y entusiastas para unirse a nuestro equipo. En Chipotle, se unirá a un equipo que se compromete a Cultivar un Mundo Mejor. Si suena como algo de lo que desearía formar parte, ¡nos encantaría conocerlo! Consulte más detalles a continuación y presente su solicitud hoy mismo. LO QUE LE OFRECEMOS Asistencia para matrícula (100 % de cobertura para títulos seleccionados o hasta $5,250 al año) Comida gratis (sí, realmente GRATIS) Seguro médico, dental y de la vista Tiempo libre pagado Cierres por feriados Remuneración competitiva Oportunidades a tiempo completo y parcial Oportunidades de ascenso (el 80 % de los directivos empezó como miembro del equipo) LO QUE USTED APORTARÁ Una actitud amigable y entusiasta Pasión por ayudar y servir a los demás (tanto a los clientes como a los miembros del equipo) Ganas de aprender a cocinar (mucho) Tener al menos 16 años de edad Capacidad de comunicarse en los idiomas principales de la ubicación de trabajo QUIÉNES SOMOS Con restaurantes en Estados Unidos, Canadá, así como el Reino Unido, Francia y Alemania, Chipotle es la única empresa de restauración de esta escala que opera directamente todos sus restaurantes en los mercados americano y europeo. Impulsado por equipos apasionados por la experiencia del cliente, Chipotle es un líder a largo plazo, un innovador en el sector de la restauración. Chipotle Mexican Grill es un empleador que ofrece igualdad de oportunidades y valora la diversidad en todos los niveles. Como empresa que piensa primero en la gente y tiene su raíz en los valores, nuestro objetivo se extiende más allá de servir alimentos nutritivos con ingredientes reales. Significa contratar a personas de todo el mundo y promover una cultura que defienda la diversidad, garantice la equidad y celebre la inclusión. Se alienta a que todos los postulantes calificados, independientemente de sus características personales, presenten su solicitud. Los postulantes calificados con discapacidades pueden tener derecho a una adaptación razonable en virtud de los términos de la Ley para Estadounidenses con Discapacidades o de determinadas leyes estatales o locales. Comuníquese con [email protected] si                                                                                                                                                                                                                                                                                                                                                                                                                                                                                                                                                                                                                                                                                                                                                                                                                                                                                                                                                                                                                                                                                                                                                                                                                                                                                                                                                                                                                                                                                                                                                                                                                                                                                                                                                                                                                                                                                                                                                                                                                                                                                                                                                                                                                                                                                                                                                                                                                                                                                                                                                                                                                                                                                                                                                                                                                                                                                                                                                                                                                                                                                                                                                                                                 67\n",
       "                                                                                                                                                                                                                                                                                                                                                                                                                                                                                                                                                                                                                                                                                                                                                                                                                                                                                                                                                                                                                                                                                                                                                                                                                                                                                                                                                                                                                                                                                                                                                                                                                                                                                                                                                                                                                                                                                                                                                                                                                                                                                                                                                                                                                                                                                                                                                                                                                                                                                                                                                                                                                                                                                                                                                                                                                                                                                                                                                                                                                                                                                                                                                                                                                                                                                                                                                                                                                                                                                                                                                                                                                                                                                                                                                                                                                                                                                                                                                                                                                                                                                                                                                                                                                                                                                                                                                                                                                                                                                                                                                                                                                                                                                                                                                                                                                                                                                                                                                                                                                                                                                                                                                                                                                                                                                                                                                                                                                                                                                                                                                                                                                                                                                                                                                                                                                                                                                                                                                                                                                                                                                                                                                                                                                                                                                                                                                                                                                                                                                                                                                                                                                                                                                                                                                                                                                                                                                                                                                                                                                                                                                                                                                                                                                                                                                                                                                                                                                                                                                                                                                                                                    ... \n",
       "As a member of the Cookie Crew at our Wayne State store located at 5171 Anthony Wayne Dr, Detroit, MI 48202, you are the ultimate Insomniac. Not only are you the point person at the front of the store for interacting with our customers, but you also get to bake all of our awesome Warm and Delicious cookies as well! SOME OF OUR SWEET PERKS: Flexible part-time work schedules Free cookies & Employee Discount Pet Insurance for your furry loved ones Paid Time Off Excellent training Job stability with a rapidly growing and reputable company Achievable growth/promotion opportunities You get to work in a fun, exciting team environment WHAT ELSE WILL I DO AS A MEMBER OF THE COOKIE CREW? Promptly greet guests entering the store and take their orders according to procedure Help customers understand menu items, answer clarifying questions, and repeat orders for accuracy Give each customer a warm experience with a smile in person & over the phone Bake our delicious cookies to perfection & a scoop of ice cream Ensure fast, warm, and correct delivery orders are packaged and sent out Handle cash and payments accurately and have no shortages or overages Cleaning, sanitizing, and maintaining the bakery DESIRED SKILLS/EXPERIENCE: Prior experience in a customer service focused role - preferred Personable, genuine, outgoing demeanor Ambitious nature Great communication and organizational skills Must be 18 years or older to be employed Must be able to work nights, weekends and holidays Legally eligible to work in the United States About us: Insomnia Cookies was founded in a college dorm room by then-student, Seth Berkowitz. Fast forward 20 years and so... many cookies... later, our innovative bakery + delivery concept has become a cult brand known for its rabid following of cookie lovers who crave Insomnia's warm, delicious delivery all day and late into the night. With an expanding footprint of over 300 stores globally, an experiential, \"sweet-easy\" concept as the brand's flagship in Philadelphia, Pa. (where Insomnia Cookies is headquartered), and a rapidly-growing nationwide shipping and gifting portfolio... Insomnia Cookies is revolutionizing the cookie game by truly \"Imagining What's Possible\"! Apply for this job Required Preferred Job Industries Other Full Time                                                                                                                                                                                                                                                                                                                                                                                                                                                                                                                                                                                                                                                                                                                                                                                                                                                                                                                                                                                                                                                                                                                                                                                                                                                                                                                                                                                                                                                                                                                                                                                                                                                                                                                                                                                                                                                                                                                                                                                                                                                                                                                                                                                                                                                                                                                                                                                                                                                                                                                                                                                                                                                                                                                                                                                                                                                                                                                                                                                                                                                                                                                                                                                                                                                                                                                                                                                                                                                                                                                                                                                                                                                                                                                                                                                                                                                                                                                                                                                                                                                                                                                                                                                                                                                                                                                                                                                                                                                                                                                                                                                                                                                                                                                                                                                                                                                                                                                                                                                                                                                                                                                                                                                                                           1\n",
       "Job Summary E ndodontic dental practice in Santa Clarita is looking for a friendly, upbeat, team-oriented Public Relations Coordinator who is dedicated to delivering exceptional customer service. Job Requirement * Must have a car with a valid driver’s license * Must be personable and excel at customer service * Build and create new relationships with referring and non referring offices * Promote and distribute marketing press campaigns working with our marketing team * Increase marketing office visits while continuing to add new offices to referral base * Working side by side with the Senior Public Relations Director * Must be a result driven individual with extraordinary multitasking skills * Research, generate, and create new exciting marketing ideas * Event planning and coordinating location * Attend quarterly meetings This successful candidate will play a key role in increasing revenue, generating leads, and will require self motivation and dedication. We are looking for a field marketing representative responsible for driving brand awareness through on-site face to face interaction with our clients providing valuable information about our services. We are looking for a candidate who is detail oriented, with good mathematical, grammatical and spelling skills. Previous experience using Eaglesoft software is preferred, but not required. We are looking for someone who is Microsoft Suite savvy (Microsoft Excel, PowerPoint and Word), along with Canva. This position does not require a marketing degree; however, exceptional customer service is a must. Job Type: Full-time Pay: From $18.00 per hour Benefits: 401(k) 401(k) matching Dental insurance Health insurance On-the-job training Referral program Vision insurance Shift: 8 hour shift Day shift Ability to Commute: Santa Clarita, CA 91355 (Required) Ability to Relocate: Santa Clarita, CA 91355: Relocate before starting work (Required) Work Location: In person Job Type: Full-time Pay: From $18.00 per hour Expected hours: No more than 40 per week Benefits: 401(k) Dental insurance Health insurance On-the-job training Referral program Vision insurance Shift: 8 hour shift Day shift Ability to Commute: Santa Clarita, CA 91355 (Required) Ability to Relocate: Santa Clarita, CA 91355: Relocate before starting work (Required) Work Location: In person                                                                                                                                                                                                                                                                                                                                                                                                                                                                                                                                                                                                                                                                                                                                                                                                                                                                                                                                                                                                                                                                                                                                                                                                                                                                                                                                                                                                                                                                                                                                                                                                                                                                                                                                                                                                                                                                                                                                                                                                                                                                                                                                                                                                                                                                                                                                                                                                                                                                                                                                                                                                                                                                                                                                                                                                                                                                                                                                                                                                                                                                                                                                                                                                                                                                                                                                                                                                                                                                                                                                                                                                                                                                                                                                                                                                                                                                                                                                                                                                                                                                                                                                                                                                                                                                                                                                                                                                                                                                                                                                                                                                                                                                                                                                                                                                                                                                                                                                                                                                                                                                                                                                                                                1\n",
       "You already LOVE us and the SNACKS WE MAKE! Chips, Cookies, Crackers, Wafers, Cheese Curls, Popcorn, Tortilla Chips... yeah, we make them ALL! Shearer's is the company behind all your favorite snack brands. We have over 5,000 associates in 14 state-of-the-art manufacturing and warehouse sites in North America that produce over 800 million pounds of snacks per year. Did you know that we buy 20% of all the potatoes grown in the US? WOW! And we know what you're thinking...how can I get my hands on some free goodies? Our team members can take home free snacks!CLASS A SHUTTLE DRIVERMIDNIGHTS 12AM TO 8AM (must be able to work weekends)$26.52 + $3.00 SHIFT DIFFERENTIALVACATION AFTER 90 DAYS! MEDICAL, DENTAL, VISION & 401K AFTER 30 DAYS! SET SCHEDULE WITH LOCAL ROUTE! Your seat at the best snacks table: Driving shuttles to and from our Brewster and Massillon, OH facilities. Other tasks may include assisting pulling/loading customer orders, moving pallets to and from the production area and all other duties as assigned. Applicant must be able to keep up with a fast, repetitious pace and an ability to lift up to 50 lbs. Must be able to work weekends and overtime when needed. What you bring to the party: We want to build the best team in the industry, so we're looking for people like you who not only can work as a part of a team, but also exhibit the following leadership behaviors: Must have valid CDL Class A license and a clean driving record. Previous Class A/shuttle driving experience a must 3+ years of experience preferred Reliability/good attendance We offer a variety pack of benefits after just 30 days: Medical, Dental, Vision, Life, Flexible Spending Account, Retirement Savings Plan with Match, Short Term Disability, Long Term Disability, Group Critical Accident Insurance, Group Critical Illness Insurance, Employee Assistance Plan and numerous opportunities to volunteer in the communities in which we operate. Paid Time Off (PTO) available after 90-days. You will be considered for employment in our inclusive workplace Location: 2255 Phoenix Ave SE Massillon, Ohio 44646 Because at Shearer's, we are committed to providing equal employment opportunities (EEO) to all employees and applicants for employment without regard to race, color, religion, gender, sexual orientation, gender identity or expression, national origin, age, disability, genetic information, marital status, amnesty, protected veteran status, or any other characteristic protected by law. Required Preferred Job Industries Other Full Time                                                                                                                                                                                                                                                                                                                                                                                                                                                                                                                                                                                                                                                                                                                                                                                                                                                                                                                                                                                                                                                                                                                                                                                                                                                                                                                                                                                                                                                                                                                                                                                                                                                                                                                                                                                                                                                                                                                                                                                                                                                                                                                                                                                                                                                                                                                                                                                                                                                                                                                                                                                                                                                                                                                                                                                                                                                                                                                                                                                                                                                                                                                                                                                                                                                                                                                                                                                                                                                                                                                                                                                                                                                                                                                                                                                                                                                                                                                                                                                                                                                                                                                                                                                                                                                                                                                                                                                                                                                                                                                                                                                                                                                                                                                                                                                                                                                                                                                                                             1\n",
       "Company Description Wonderful Pistachios is the world's largest pistachio processor and marketer. Located in California's Central Valley, our nuts are Non-GMO Project Verified and sustainably harvested, providing a smart, healthy choice for consumers around the world. Wonderful Pistachios are the original plant-based protein, and are a tasty tribute to snacking done right. Wonderful Pistachios’ iconic “Get Crackin” ads demonstrate how great taste and healthy habits can go hand in hand. We're seeking a driven Digital Marketing Specialist to join our eCommerce team to support our paid media ad campaigns across Amazon, Instacart and Retail Partner websites and manage the strategic execution of e-Commerce Marketing initiatives. This position will be hands-on in executing and optimizing self-managed digital ad campaigns, with a strong analytical mindset to drive growth and maximize profit. You will be working with several of our industry leading brands - Wonderful Pistachios, POM Wonderful & Wonderful Citrus and will have the opportunity to learn and grow with a high performing eCommerce team. This position will be based at our West Los Angeles, CA office. We work a hybrid schedule with an in-office requirement Monday-Wednesday and the option to work remotely on Thursday and Friday. Job Description Co-develop and implement comprehensive digital marketing strategies to drive traffic, engagement and conversions online including Amazon, Instacart and multiple grocery retailer.com websites such as Walmart.com Plan, create and optimize paid media campaigns maintaining budgets and key metrics Analyze campaign performance data, keeping dashboards updated and providing actionable insights to drive traffic, increase conversions and maximize ROI Monitor, analyze, and report on KPIs & Insights and present to leadership team on findings to help make build strategy Use brand and sales data to inform digital strategies and ensure they are compliant with the specific retailer and cohesive with the brand and media plans Conduct keyword research, competitive analysis, and tracking to inform and refine ad strategies Maintain campaign calendars, ad budgets, payments, creative assets and approvals and to be able to bring all the parts together to deliver within deadlines Collaborate with cross-functional partners including brand, sales, trade marketing, media, the creative agency and the legal compliance team. Qualifications Experience with multiple ad portals such as Amazon Advertising, Walmart Connect, Target Roundel, Criteo etc. Experience with research and data insight tools such as Helium 10 and Google Analytics would also be of benefit. Bachelor's Degree in a related field required. Master’s level a plus. 4+ years experience with hands-on paid search and display advertising required with specific hands-on experience in Amazon ads. Solid understanding of digital marketing fundamentals such as search, display, building funnels and key word research. High level proficiency in excel including pivot tables. Modeling and advanced functions ideal. Strong analytical skills and an ability to interpret data to formulate profitability driven decisions. A collaborative approach with demonstrated ability to build effective relationships and influence people and process to achieve business goals. Have a curiosity for latest trends in eCommerce and thirst for becoming a subject matter expert in digital advertising. A good sense of prioritization of tasks, time management and organization. You will need to be able to organize yourself and others to manage a large number of unique accounts, customers, plans, brands and SKUs simultaneously. CPG food & beverage industry experience preferred. Pay Range: $85,000 - $100,000 and may include a discretionary bonus . Final compensation will be dependent upon skills & experience. Additional Information Thriving Wellness Community: Access to top-notch medical coverage comprehensive vision and dental plans, and a 401k with match eligibility to secure your financial future and including: 24/7 online physician consultations virtual mental health resources life coaching engaging employee community groups cash rewards for healthy habits and fitness reimbursements library of on-demand fitness videos Career Advancement Opportunities: Unlock your potential with clear paths for career progression and internal mobility across our diverse family of brands and business units. Focused Learning and Development: Grow as a leader with our dedicated Learning and Organizational Development department, offering extensive resources like People Manager and leadership training, webinars, and eLearning courses. Empowering Mentorship Program: Connect with colleagues through our company-wide mentorship program to share goals, overcome challenges, and drive your career forward. Continuous Improvement Training: Participate in training that empowers all employees to learn and implement concepts that drive significant, positive change in the workplace. Building a Healthy Society: We focus on improving the social determinants of a healthy society-quality education and medical care, economic mobility, and a healthy environment-to help build thriving communities. Wonderful CSR Giving Back to the Community: Make a difference with Wonderful Giving, allowing you to allocate company-provided funds to up to three charities of your choice, and join Wonderful Neighbor to contribute to group service projects within our local communities. Wonderful Pistachios is part of The Wonderful Company, a successful, fast-growing privately held $6 billion company with 10,000 employees worldwide. The Wonderful Company’s connection to consumers has health at its heart and giving back in its DNA. The company has a long-standing commitment to corporate social responsibility, including more than $1 billion invested in environmental sustainability; $65 million in charitable giving, education initiatives, and innovative health and wellness programs each year; and $143 million toward the construction of two charter school campuses in California’s Central Valley. To view the current Corporate Social Responsibility report, visit csr.wonderful.com. We’ve made Wonderful® Pistachios America’s fastest-growing snack brand. We’ve turned pomegranates and POM Wonderful® into a worldwide phenomenon. Wonderful Halos is the No. 1 mandarin orange in America. FIJI® Water is the No. 1 premium imported bottled water in America. JUSTIN® Wine produces California’s top-selling, high-end Cabernet Sauvignon. And Teleflora® is the world’s leading floral delivery service. To learn more about The Wonderful Company, its products and its core values, visit www.wonderful.com, or follow us on Facebook, Twitter and Instagram. The Wonderful Company is an Equality Opportunity Employer that provides opportunities for advancement. We are committed to creating a diverse workforce that embodies a deep culture of acceptance, equity, and inclusion. All qualified applicants will receive consideration for employment without regard to race, color, religion, sex, sexual orientation, gender identity, national origin, disability, age, protected veteran status, or other protected categories. #LI-AF1 #LI-HYBRID EEO is the law - click here for more information      1\n",
       "Overview We are seeking a dedicated and detail-oriented Janitor to join our team. The ideal candidate will be responsible for maintaining cleanliness and order in various facilities, ensuring a safe and hygienic environment for all occupants. This role requires a proactive approach to cleaning and maintenance tasks, with a focus on commercial spaces. Responsibilities Perform routine cleaning tasks including sweeping, mopping, and vacuuming floors. Conduct industrial cleaning duties as required, adhering to safety protocols. Carry out custodial responsibilities such as emptying trash, sanitizing restrooms, and replenishing supplies. Ensure all cleaning supplies are stocked and properly stored. Maintain cleanliness in common areas, hallways, and entrances. Respond promptly to any cleaning requests or emergencies. Requirements Previous experience in commercial cleaning or custodial services is preferred. Skills in buffing, floor care, and industrial cleaning techniques are highly desirable. Knowledge of facilities maintenance practices is a plus. Ability to work independently as well as part of a team. Strong attention to detail with a commitment to maintaining high cleanliness standards. Physical stamina to perform cleaning tasks that may require lifting or moving items up to 50 pounds. Excellent time management skills to efficiently complete assigned duties. Join our team today and contribute to creating clean and welcoming environments! Job Type: Part-time Pay: Up to $12.12 per hour Expected hours: 13 per week Schedule: Monday to Friday People with a criminal record are encouraged to apply Shift availability: Day Shift (Preferred) Ability to Commute: Houston, TX 77034 (Preferred) Ability to Relocate: Houston, TX 77034: Relocate before starting work (Preferred) Work Location: In person                                                                                                                                                                                                                                                                                                                                                                                                                                                                                                                                                                                                                                                                                                                                                                                                                                                                                                                                                                                                                                                                                                                                                                                                                                                                                                                                                                                                                                                                                                                                                                                                                                                                                                                                                                                                                                                                                                                                                                                                                                                                                                                                                                                                                                                                                                                                                                                                                                                                                                                                                                                                                                                                                                                                                                                                                                                                                                                                                                                                                                                                                                                                                                                                                                                                                                                                                                                                                                                                                                                                                                                                                                                                                                                                                                                                                                                                                                                                                                                                                                                                                                                                                                                                                                                                                                                                                                                                                                                                                                                                                                                                                                                                                                                                                                                                                                                                                                                                                                                                                                                                                                                                                                                                                                                                                                                                                                                                                                                                                                                                                                                                                                                                                                                1\n",
       "Name: count, Length: 87594, dtype: int64"
      ]
     },
     "execution_count": 19,
     "metadata": {},
     "output_type": "execute_result"
    }
   ],
   "source": [
    "df.jobDesc.value_counts()"
   ]
  },
  {
   "cell_type": "code",
   "execution_count": 20,
   "metadata": {},
   "outputs": [],
   "source": [
    "import re\n",
    "def clean_text(text):\n",
    "  if not isinstance(text, str):\n",
    "    return \"\"\n",
    "  text = text.lower()\n",
    "  text = re.sub(r\"[^a-zA-Z0-9\\s]\", \"\", text)\n",
    "  text = re.sub(r'https?://\\S+|www\\.\\S+', ' ', text)\n",
    "  text = re.sub(r'<.*?>', ' ', text)\n",
    "  text = re.sub(r'\\s+', ' ', text).strip()\n",
    "  return text"
   ]
  },
  {
   "cell_type": "code",
   "execution_count": 24,
   "metadata": {},
   "outputs": [],
   "source": [
    "df['jobDesc_clean'] = df['jobDesc'].apply(clean_text)"
   ]
  },
  {
   "cell_type": "code",
   "execution_count": 26,
   "metadata": {},
   "outputs": [
    {
     "data": {
      "text/plain": [
       "'job description location summary located in templeton amongst the oak trees adventist health twin cities has been serving northern san luis obispo county since 1977 comprised of a 122bed acute care facility our team provides exceptional care in emergency medicine orthopedics obstetrics digestive disorders wound care and various medical surgical and outpatient services locals enjoy weekly farmers markets in downtown templeton farmtofork dining beautiful landscapes for hiking and biking and beach days just fifteen minutes away at cambria and morro bay position summary this role is represented by the seiu responsible for the nuclear imaging of the newborn pediatric adolescent adult and geriatric patient as ordered by the physician post administration of a radioactive material positions and instructs the patient for nuclear medicine examinations adjusts the imaging equipment determines proper dosage and desired exposure time for each image following alara guidelines job requirements education and work experience must have met minimum requirements required for licensure by dhs required understands radiology information systems utilization and operation required computer literacy required licenses and certifications dhs certified technologist required nuclear medicine license to include venipuncture required basic life support bls through the american heart association required organizational requirements adventist health is committed to the safety and wellbeing of our associates and patients therefore we require that all associates receive all required vaccinations including but not limited to measles mumps flu based on the seasonal availability of the flu vaccine typically during octobermarch each year covid19 vaccine required in ca hi and or etc as a condition of employment and annually thereafter medical and religious exemptions may apply 8 hour work schedule rotating shifts 40 hours per week 80 hours per week fulltime'"
      ]
     },
     "execution_count": 26,
     "metadata": {},
     "output_type": "execute_result"
    }
   ],
   "source": [
    "df['jobDesc_clean'][0]"
   ]
  },
  {
   "cell_type": "code",
   "execution_count": 27,
   "metadata": {},
   "outputs": [
    {
     "name": "stdout",
     "output_type": "stream",
     "text": [
      "<class 'pandas.core.frame.DataFrame'>\n",
      "RangeIndex: 97417 entries, 0 to 97416\n",
      "Data columns (total 16 columns):\n",
      " #   Column             Non-Null Count  Dtype \n",
      "---  ------             --------------  ----- \n",
      " 0   jobTitle           97417 non-null  object\n",
      " 1   companyName        97417 non-null  object\n",
      " 2   finalZipcode       97417 non-null  object\n",
      " 3   finalState         97417 non-null  object\n",
      " 4   finalCity          97417 non-null  object\n",
      " 5   companyBranchName  97417 non-null  object\n",
      " 6   jobDescUrl         97417 non-null  object\n",
      " 7   nlpBenefits        97417 non-null  object\n",
      " 8   nlpSkills          97417 non-null  object\n",
      " 9   nlpSoftSkills      97417 non-null  object\n",
      " 10  nlpDegreeLevel     97417 non-null  object\n",
      " 11  nlpEmployment      97417 non-null  object\n",
      " 12  nlpSeniority       97417 non-null  object\n",
      " 13  scrapedLocation    97417 non-null  object\n",
      " 14  jobDesc            97417 non-null  object\n",
      " 15  jobDesc_clean      97417 non-null  object\n",
      "dtypes: object(16)\n",
      "memory usage: 11.9+ MB\n"
     ]
    }
   ],
   "source": [
    "df.info()"
   ]
  },
  {
   "cell_type": "code",
   "execution_count": 29,
   "metadata": {},
   "outputs": [],
   "source": [
    "df.to_csv('data/jobs_embed.csv', index=False)"
   ]
  }
 ],
 "metadata": {
  "kernelspec": {
   "display_name": "Python 3",
   "language": "python",
   "name": "python3"
  },
  "language_info": {
   "codemirror_mode": {
    "name": "ipython",
    "version": 3
   },
   "file_extension": ".py",
   "mimetype": "text/x-python",
   "name": "python",
   "nbconvert_exporter": "python",
   "pygments_lexer": "ipython3",
   "version": "3.9.6"
  }
 },
 "nbformat": 4,
 "nbformat_minor": 2
}
